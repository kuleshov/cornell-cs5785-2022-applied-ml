{
 "cells": [
  {
   "cell_type": "markdown",
   "metadata": {
    "colab_type": "text",
    "id": "i_f5u2x9nn6I",
    "slideshow": {
     "slide_type": "slide"
    }
   },
   "source": [
    "<left><img width=25% src=\"img/cornell_tech2.svg\"></left>\n",
    "\n",
    "# Lecture 23: Tools for Diagnosing Model Performance\n",
    "\n",
    "### Applied Machine Learning\n",
    "\n",
    "__Volodymyr Kuleshov__<br>Cornell Tech"
   ]
  },
  {
   "cell_type": "markdown",
   "metadata": {
    "slideshow": {
     "slide_type": "slide"
    }
   },
   "source": [
    "# Practical Considerations When Applying Machine Learning\n",
    "\n",
    "Suppose you trained an image classifier with 80% accuracy. What's next?"
   ]
  },
  {
   "cell_type": "markdown",
   "metadata": {
    "slideshow": {
     "slide_type": "fragment"
    }
   },
   "source": [
    "* Add more data?\n",
    "* Train the algorithm for longer?\n",
    "* Use a bigger model?\n",
    "* Add regularization?\n",
    "* Add new features?"
   ]
  },
  {
   "cell_type": "markdown",
   "metadata": {
    "slideshow": {
     "slide_type": "fragment"
    }
   },
   "source": [
    "We will next learn how to prioritize these decisions when applying ML."
   ]
  },
  {
   "cell_type": "markdown",
   "metadata": {
    "slideshow": {
     "slide_type": "slide"
    }
   },
   "source": [
    "# Review: Model Development Workflow\n",
    "\n",
    "The machine learning development workflow has three steps:\n",
    "1. __Training:__ Try a new model and fit it on the training set."
   ]
  },
  {
   "cell_type": "markdown",
   "metadata": {
    "slideshow": {
     "slide_type": "fragment"
    }
   },
   "source": [
    "2. __Model Selection__: Estimate performance on the development set using metrics. Based on results, try a new model idea in step #1."
   ]
  },
  {
   "cell_type": "markdown",
   "metadata": {
    "slideshow": {
     "slide_type": "fragment"
    }
   },
   "source": [
    "3. __Evaluation__: Finally, estimate real-world performance on test set."
   ]
  },
  {
   "cell_type": "markdown",
   "metadata": {
    "slideshow": {
     "slide_type": "slide"
    }
   },
   "source": [
    "<left><img width=25% src=\"img/cornell_tech2.svg\"></left>\n",
    "\n",
    "# Part 1: Evaluating Classification Models\n",
    "\n",
    "The first step towards building better ML models is to determine how to *evaluate* them.\n",
    "\n",
    "We will start by talking about how to evaluate classification models."
   ]
  },
  {
   "cell_type": "markdown",
   "metadata": {
    "slideshow": {
     "slide_type": "skip"
    }
   },
   "source": [
    "# Review: Classification\n",
    "\n",
    "Consider a training dataset $\\mathcal{D} = \\{(x^{(1)}, y^{(1)}), (x^{(2)}, y^{(2)}), \\ldots, (x^{(n)}, y^{(n)})\\}$.\n",
    "\n",
    "We distinguish between two types of supervised learning problems depending on the targets $y^{(i)}$. \n",
    "\n",
    "1. __Regression__: The target variable $y \\in \\mathcal{Y}$ is continuous:  $\\mathcal{Y} \\subseteq \\mathbb{R}$.\n",
    "2. __Classification__: The target variable $y$ is discrete, and takes on one of $K$ possible values.\n",
    "\n",
    "When classification labels take $K=2$ values, we perform __binary classification__."
   ]
  },
  {
   "cell_type": "markdown",
   "metadata": {
    "slideshow": {
     "slide_type": "skip"
    }
   },
   "source": [
    "An example of a classification task is the Iris flower dataset."
   ]
  },
  {
   "cell_type": "code",
   "execution_count": 1,
   "metadata": {
    "slideshow": {
     "slide_type": "skip"
    }
   },
   "outputs": [],
   "source": [
    "# import standard machine learning libraries\n",
    "import numpy as np\n",
    "import pandas as pd\n",
    "from sklearn import datasets\n",
    "from sklearn.model_selection import train_test_split\n",
    "\n",
    "iris = datasets.load_iris() # load the Iris dataset\n",
    "X, y = iris.data[:120, :2], iris.target[:120] # create imbalanced classes and only use first 2 features\n",
    "X, X_holdout, y, y_holdout = train_test_split(X, y, test_size=50, random_state=0)"
   ]
  },
  {
   "cell_type": "markdown",
   "metadata": {
    "slideshow": {
     "slide_type": "skip"
    }
   },
   "source": [
    "We may visualize this dataset in 2D."
   ]
  },
  {
   "cell_type": "code",
   "execution_count": 2,
   "metadata": {
    "slideshow": {
     "slide_type": "skip"
    }
   },
   "outputs": [
    {
     "data": {
      "text/plain": [
       "Text(0.5, 0, 'Sepal length (cm)')"
      ]
     },
     "execution_count": 2,
     "metadata": {},
     "output_type": "execute_result"
    },
    {
     "data": {
      "image/png": "[encoded data removed]",
      "text/plain": [
       "<Figure size 864x288 with 1 Axes>"
      ]
     },
     "metadata": {
      "needs_background": "light"
     },
     "output_type": "display_data"
    }
   ],
   "source": [
    "from matplotlib import pyplot as plt\n",
    "plt.rcParams['figure.figsize'] = [12, 4]\n",
    "\n",
    "# Visualize the Iris flower dataset\n",
    "setosa_flowers = (iris.target == 0)\n",
    "plt.scatter(X[:,0], X[:,1], c=y, cmap=plt.cm.Paired)\n",
    "plt.ylabel(\"Sepal width (cm)\")\n",
    "plt.xlabel(\"Sepal length (cm)\")"
   ]
  },
  {
   "cell_type": "markdown",
   "metadata": {
    "slideshow": {
     "slide_type": "skip"
    }
   },
   "source": [
    "Below, we fit a Softmax model to the Iris dataset."
   ]
  },
  {
   "cell_type": "code",
   "execution_count": 3,
   "metadata": {
    "slideshow": {
     "slide_type": "skip"
    }
   },
   "outputs": [],
   "source": [
    "from sklearn.linear_model import LogisticRegression\n",
    "# fit a softmax regression model (implemented in LogisticRegression in sklearn)\n",
    "model = LogisticRegression()\n",
    "model.fit(X,y)\n",
    "y_pred = model.predict(X_holdout)"
   ]
  },
  {
   "cell_type": "markdown",
   "metadata": {
    "slideshow": {
     "slide_type": "skip"
    }
   },
   "source": [
    "# Classification Accuracy\n",
    "\n",
    "The simplest and most natural metric for classification algorithms on a dataset $\\mathcal{D} = \\{(x^{(1)}, y^{(1)}), (x^{(2)}, y^{(2)}), \\ldots, (x^{(n)}, y^{(n)})\\}$ is accuracy:\n",
    "$$\\text{acc}(f) = \\frac{1}{n}\\sum_{i=1}^n \\mathbb{I}\\{f(x^{(i)}) = y^{(i)}\\},$$\n",
    "where $\\mathbb{I}\\{\\cdot\\}$ is an indicator function (equals 1 if its input is true and zero otherwise)."
   ]
  },
  {
   "cell_type": "code",
   "execution_count": 4,
   "metadata": {
    "slideshow": {
     "slide_type": "skip"
    }
   },
   "outputs": [
    {
     "name": "stdout",
     "output_type": "stream",
     "text": [
      "Iris holdout set accuracy: 0.84\n"
     ]
    }
   ],
   "source": [
    "accuracy = (y_pred == y_holdout).mean()\n",
    "print('Iris holdout set accuracy: %.2f' % accuracy)"
   ]
  },
  {
   "cell_type": "markdown",
   "metadata": {
    "slideshow": {
     "slide_type": "skip"
    }
   },
   "source": [
    "# Confusion Matrix\n",
    "\n",
    "We can better understand classification error via a confusion matrix.\n",
    "* On the y-axis we have the true classes $y_j$.\n",
    "* On the x-axis we have the predicted classes $\\hat y_k$.\n",
    "* The cell for $(y_j, \\hat y_k)$ contains the number of samples of class $y_j$ that have been classified as $\\hat y_k$."
   ]
  },
  {
   "cell_type": "code",
   "execution_count": 5,
   "metadata": {
    "slideshow": {
     "slide_type": "skip"
    }
   },
   "outputs": [
    {
     "data": {
      "text/plain": [
       "<sklearn.metrics._plot.confusion_matrix.ConfusionMatrixDisplay at 0x12241b4e0>"
      ]
     },
     "execution_count": 5,
     "metadata": {},
     "output_type": "execute_result"
    },
    {
     "data": {
      "image/png": "[encoded data removed]",
      "text/plain": [
       "<Figure size 864x288 with 2 Axes>"
      ]
     },
     "metadata": {
      "needs_background": "light"
     },
     "output_type": "display_data"
    }
   ],
   "source": [
    "from sklearn.metrics import plot_confusion_matrix\n",
    "plot_confusion_matrix(model, X_holdout, y_holdout)"
   ]
  },
  {
   "cell_type": "markdown",
   "metadata": {
    "slideshow": {
     "slide_type": "skip"
    }
   },
   "source": [
    "Accuracy is a problematic metric when classes are imbalanced. \n",
    "\n",
    "It easy to achieve high accuracy just by being accurate on the more frequent class (by always predicting it, for example)."
   ]
  },
  {
   "cell_type": "markdown",
   "metadata": {
    "slideshow": {
     "slide_type": "slide"
    }
   },
   "source": [
    "# Metrics for Binary Classification\n",
    "\n",
    "We can look at performance in a more precise way when we do binary classification. Consider the following confusion matrix.\n",
    "\n",
    "$ $                   | Predicted positive $\\hat y=1$ | Predicted negative $\\hat y=0$\n",
    "---------------------|--------------------------------|------------------------------\n",
    "Positive class $y=1$ | True positive (TP)             | False negative (FN)\n",
    "Negative class $y=0$ | False positive (FP)            | True negative (TN)"
   ]
  },
  {
   "cell_type": "markdown",
   "metadata": {
    "slideshow": {
     "slide_type": "fragment"
    }
   },
   "source": [
    "We can define accuracy as follows:\n",
    "\n",
    "$$\\text{accuracy} = \\frac{\\text{TP} + \\text{TN}}{\\text{TP} + \\text{FP} + \\text{FN} + \\text{TN}}$$\n",
    "\n",
    "This is the number of correct predictions divided by the total number of predictions."
   ]
  },
  {
   "cell_type": "markdown",
   "metadata": {
    "slideshow": {
     "slide_type": "slide"
    }
   },
   "source": [
    "# Sensitivity and Specificity\n",
    "\n",
    "$ $                   | Predicted positive $\\hat y=1$ | Predicted negative $\\hat y=0$\n",
    "---------------------|--------------------------------|------------------------------\n",
    "Positive class $y=1$ | True positive (TP)             | False negative (FN)\n",
    "Negative class $y=0$ | False positive (FP)            | True negative (TN)\n",
    "\n",
    "We can also look at \"accuracy\" on each class separately. This reveals problems with imbalanced classes.\n",
    "\\begin{align*}\n",
    "\\underset{\\text{(recall, true positive rate)}}{\\text{sensitivity}} & = \\frac{\\text{TP}}{\\text{positive class}}  = \\frac{\\text{TP}}{\\text{TP} + \\text{FN}} \\\\\n",
    "\\underset{\\text{(true negative rate)}}{\\text{specificity}} & = \\frac{\\text{TN}}{\\text{negative class}} = \\frac{\\text{TN}}{\\text{TN} + \\text{FP}} \\\\\n",
    "\\end{align*}"
   ]
  },
  {
   "cell_type": "markdown",
   "metadata": {
    "slideshow": {
     "slide_type": "subslide"
    }
   },
   "source": [
    "We can combine these into a single measure called balanced accuracy\n",
    "\n",
    "\\begin{align*}\n",
    "\\text{balanced accuracy} & = \\frac{1}{2}\\left(\\text{specificity} + \\text{sensitivity}\\right) \\\\\n",
    "& = \\frac{1}{2}\\left(\\frac{\\text{TN}}{\\text{TN} + \\text{FP}} + \\frac{\\text{TP}}{\\text{TP} + \\text{FN}}\\right)\n",
    "\\end{align*} "
   ]
  },
  {
   "cell_type": "markdown",
   "metadata": {
    "slideshow": {
     "slide_type": "slide"
    }
   },
   "source": [
    "# Precision and Recall\n",
    "\n",
    "$ $                   | Predicted positive $\\hat y=1$ | Predicted negative $\\hat y=0$\n",
    "---------------------|--------------------------------|------------------------------\n",
    "Positive class $y=1$ | True positive (TP)             | False negative (FN)\n",
    "Negative class $y=0$ | False positive (FP)            | True negative (TN)\n",
    "\n",
    "An alternative set of measures is precision and recall.\n",
    "\\begin{align*}\n",
    "\\underset{\\text{(positive predictive value)}}{\\text{precision}} & = \\frac{\\text{TP}}{\\text{predicted positive}} = \\frac{\\text{TP}}{\\text{TP} + \\text{FP}} \\\\\n",
    "\\underset{\\text{(sensitivity, true positive rate)}}{\\text{recall}} & = \\frac{\\text{TP}}{\\text{positive class}}  = \\frac{\\text{TP}}{\\text{TP} + \\text{FN}}\n",
    "\\end{align*}"
   ]
  },
  {
   "cell_type": "markdown",
   "metadata": {
    "slideshow": {
     "slide_type": "subslide"
    }
   },
   "source": [
    "Imagine we are building a search engine. The positive examples are the pages that are relevant to the users.\n",
    "* Precision: of the web pages returned by the engine, how many were truly relevant?\n",
    "* Recall: how many relevant pages did we find?"
   ]
  },
  {
   "cell_type": "markdown",
   "metadata": {
    "slideshow": {
     "slide_type": "fragment"
    }
   },
   "source": [
    "Notice that we don't directly report performance on negatives (what % of irrelevant pages were labeled as such)."
   ]
  },
  {
   "cell_type": "markdown",
   "metadata": {
    "slideshow": {
     "slide_type": "subslide"
    }
   },
   "source": [
    "When do we choose precision and recall vs. sensitivity and specificity?\n",
    "* Precision and recall are useful if we don't care about true negatives (e.g. a search engine). We only care about identifying correct positives and not missing any."
   ]
  },
  {
   "cell_type": "markdown",
   "metadata": {
    "slideshow": {
     "slide_type": "fragment"
    }
   },
   "source": [
    "* Sensitivity and specificity are useful if negatives are also important (e.g., accurately detecting absence of cancer is also important)."
   ]
  },
  {
   "cell_type": "markdown",
   "metadata": {
    "slideshow": {
     "slide_type": "slide"
    }
   },
   "source": [
    "# F-Score\n",
    "\n",
    "The F-Score is the harmonic mean of precision and recall.\n",
    "$$\\text{F-Score} = \\frac{2}{\\frac{1}{\\text{precision}} + \\frac{1}{\\text{recall}}}$$\n",
    "\n",
    "It equals one at prefect prediction and recall and zero if one of precision or recall is zero."
   ]
  },
  {
   "cell_type": "markdown",
   "metadata": {
    "slideshow": {
     "slide_type": "slide"
    }
   },
   "source": [
    "<left><img width=25% src=\"img/cornell_tech2.svg\"></left>\n",
    "\n",
    "# Part 2: Advanced Classification Metrics\n",
    "\n",
    "Next, we look a few more advanced classification metrics."
   ]
  },
  {
   "cell_type": "markdown",
   "metadata": {
    "slideshow": {
     "slide_type": "skip"
    }
   },
   "source": [
    "# Review: Classification\n",
    "\n",
    "Consider a training dataset $\\mathcal{D} = \\{(x^{(1)}, y^{(1)}), (x^{(2)}, y^{(2)}), \\ldots, (x^{(n)}, y^{(n)})\\}$.\n",
    "\n",
    "We distinguish between two types of supervised learning problems depending on the targets $y^{(i)}$. \n",
    "\n",
    "1. __Regression__: The target variable $y \\in \\mathcal{Y}$ is continuous:  $\\mathcal{Y} \\subseteq \\mathbb{R}$.\n",
    "2. __Classification__: The target variable $y$ is discrete, and takes on one of $K$ possible values.\n",
    "\n",
    "When classification labels take $K=2$ values, we perform __binary classification__."
   ]
  },
  {
   "cell_type": "markdown",
   "metadata": {
    "slideshow": {
     "slide_type": "skip"
    }
   },
   "source": [
    "# Review: Sensitivity and Specificity\n",
    "\n",
    "$ $                   | Predicted positive $\\hat y=1$ | Predicted negative $\\hat y=0$\n",
    "---------------------|--------------------------------|------------------------------\n",
    "Positive class $y=1$ | True positive (TP)             | False negative (FN)\n",
    "Negative class $y=0$ | False positive (FP)            | True negative (TN)\n",
    "\n",
    "We can also look at \"accuracy\" on each class separately. This reveals problems with imbalanced classes.\n",
    "\\begin{align*}\n",
    "\\underset{\\text{(recall, true positive rate)}}{\\text{sensitivity}} & = \\frac{\\text{TP}}{\\text{positive class}}  = \\frac{\\text{TP}}{\\text{TP} + \\text{FN}} \\\\\n",
    "\\underset{\\text{(true negative rate)}}{\\text{specificity}} & = \\frac{\\text{TN}}{\\text{negative class}} = \\frac{\\text{TN}}{\\text{TN} + \\text{FP}} \\\\\n",
    "\\end{align*}"
   ]
  },
  {
   "cell_type": "markdown",
   "metadata": {
    "slideshow": {
     "slide_type": "slide"
    }
   },
   "source": [
    "# Trading Off Sensitivity vs. Specificity\n",
    "\n",
    "Suppose that true positives are more important than true negatives.\n",
    "* We may output the positive class only on very confident examples.\n",
    "* This will increase performance on positive examples and decrease performance on negative examples.\n",
    "\n",
    "Most classifiers come with confidence scores that make this easy to do."
   ]
  },
  {
   "cell_type": "markdown",
   "metadata": {
    "slideshow": {
     "slide_type": "skip"
    }
   },
   "source": [
    "With our softmax model, we can simplify obtain the class probabilities.\n",
    "\n",
    "The default threshold for predicting class 1 in binary classification is when it has >50\\% probability. But we can set it higher or lower."
   ]
  },
  {
   "cell_type": "code",
   "execution_count": 7,
   "metadata": {
    "slideshow": {
     "slide_type": "skip"
    }
   },
   "outputs": [
    {
     "name": "stdout",
     "output_type": "stream",
     "text": [
      "Predicted probabilities of class 0 from the model:\n",
      "[0.90500627 0.1628024  0.26248388 0.91899931 0.05452794 0.98241773\n",
      " 0.90444375 0.87543531 0.83226506 0.12415388]\n"
     ]
    }
   ],
   "source": [
    "pred_probabilities = model.predict_proba(X_holdout)\n",
    "print('Predicted probabilities of class 0 from the model:')\n",
    "print(pred_probabilities[:10,0])"
   ]
  },
  {
   "cell_type": "markdown",
   "metadata": {
    "slideshow": {
     "slide_type": "slide"
    }
   },
   "source": [
    "# Receiver Operating Characteristic (ROC)\n",
    "\n",
    "In binary classification, the Receiver Operating Characteristic (ROC) curve plots the true positive rate and the false positive rate (FPR) as we vary the threshold for labeling a positive example.\n",
    "\n",
    "\\begin{align*}\n",
    "\\text{TPR} = \\underset{\\text{(recall, sensitivity)}}{\\text{true positive rate}} & = \\frac{\\text{TP}}{\\text{positive class}}  = \\frac{\\text{TP}}{\\text{TP} + \\text{FN}} \\\\\n",
    "\\text{FPR} = 1-\\underset{\\text{(true negative rate)}}{\\text{specificity}} & = 1 - \\frac{\\text{TN}}{\\text{negative class}} = \\frac{\\text{FP}}{\\text{TP} + \\text{FP}} \\\\\n",
    "\\end{align*}"
   ]
  },
  {
   "cell_type": "markdown",
   "metadata": {
    "slideshow": {
     "slide_type": "skip"
    }
   },
   "source": [
    "Suppose we want to improve sensitivity for Class 2 on the Iris dataset.\n",
    "We first compute the probability $p(y=2|x)$ for each input $x$. For any threshold $t>0$, we label $x$ as Class 2 if $p(y=2|x)>t$. \n",
    "* Small $t$ result in a high TPR (we identify all positives) and high FPR (many are false).\n",
    "* High $t$ result in a low TPR (we identify few positives) and low FPR (we only label the most confident inputs)."
   ]
  },
  {
   "cell_type": "markdown",
   "metadata": {
    "slideshow": {
     "slide_type": "subslide"
    }
   },
   "source": [
    "Below, the ROC curve measures the TPR and FPR as we vary $t$."
   ]
  },
  {
   "cell_type": "code",
   "execution_count": 8,
   "metadata": {
    "slideshow": {
     "slide_type": "fragment"
    }
   },
   "outputs": [
    {
     "name": "stdout",
     "output_type": "stream",
     "text": [
      "First class 2 scores:  [0.02495207 0.15064683 0.17470687 0.00545101]\n"
     ]
    }
   ],
   "source": [
    "from sklearn.metrics import roc_curve\n",
    "\n",
    "class2_scores = pred_probabilities[:,2] # we take class 2 as the \"positive\" class\n",
    "# create labels where class 2 is the \"positive\" class\n",
    "class2_y = np.zeros(y_holdout.shape)\n",
    "class2_y[y_holdout==2] = 1\n",
    "print('First class 2 scores: ', class2_scores[:4])\n",
    "fpr, tpr, thresholds = roc_curve(class2_y, class2_scores)"
   ]
  },
  {
   "cell_type": "markdown",
   "metadata": {
    "slideshow": {
     "slide_type": "subslide"
    }
   },
   "source": [
    "We can visualize the TPR vs. the FPR at various thresholds."
   ]
  },
  {
   "cell_type": "code",
   "execution_count": 9,
   "metadata": {
    "slideshow": {
     "slide_type": "-"
    }
   },
   "outputs": [
    {
     "data": {
      "text/plain": [
       "Text(0.5, 1.0, 'Receiver operating characteristic')"
      ]
     },
     "execution_count": 9,
     "metadata": {},
     "output_type": "execute_result"
    },
    {
     "data": {
      "image/png": "[encoded data removed]",
      "text/plain": [
       "<Figure size 432x432 with 1 Axes>"
      ]
     },
     "metadata": {
      "needs_background": "light"
     },
     "output_type": "display_data"
    }
   ],
   "source": [
    "plt.figure(figsize=(6,6))\n",
    "plt.plot(fpr, tpr, color='darkorange')\n",
    "plt.plot([0, 1], [0, 1], color='navy', linestyle='--')\n",
    "plt.xlim([0.0, 1.0])\n",
    "plt.ylim([0.0, 1.05])\n",
    "plt.xlabel('False Positive Rate')\n",
    "plt.ylabel('True Positive Rate')\n",
    "plt.title('Receiver operating characteristic')"
   ]
  },
  {
   "cell_type": "markdown",
   "metadata": {
    "slideshow": {
     "slide_type": "subslide"
    }
   },
   "source": [
    "We highlight the following properties of the ROC curve:\n",
    "* In the bottom left corner, we predict only negatives. TPR = FPR = 0.\n",
    "* In the top right corner, we predict only positives. TPR = FPR = 1.\n",
    "* The ideal classifier is in the top left: TPR = 1, FPR = 0.\n",
    "* The blue diagonal corresponds to randomly guessing \"positive\"\n",
    "* The ROC curve lies between ideal and random."
   ]
  },
  {
   "cell_type": "markdown",
   "metadata": {
    "slideshow": {
     "slide_type": "slide"
    }
   },
   "source": [
    "# Area Under the Curve\n",
    "\n",
    "We can use the area under the curve (AUC) as a single measure of classifier performance.\n",
    "* The ideal classifier (ROC curve reaches top left corner) has an AUC-ROC of one.\n",
    "* A random classifier (diagonal dashed line) has an AUC-ROC of 0.5."
   ]
  },
  {
   "cell_type": "markdown",
   "metadata": {
    "slideshow": {
     "slide_type": "fragment"
    }
   },
   "source": [
    "We may compute the AUC of the above ROC curve as follows."
   ]
  },
  {
   "cell_type": "code",
   "execution_count": 10,
   "metadata": {
    "slideshow": {
     "slide_type": "-"
    }
   },
   "outputs": [
    {
     "name": "stdout",
     "output_type": "stream",
     "text": [
      "AUC-ROC: 0.8555\n"
     ]
    }
   ],
   "source": [
    "from sklearn.metrics import auc\n",
    "print('AUC-ROC: %.4f' % auc(fpr, tpr))"
   ]
  },
  {
   "cell_type": "markdown",
   "metadata": {
    "slideshow": {
     "slide_type": "skip"
    }
   },
   "source": [
    "# Multi-Class Generalizations\n",
    "\n",
    "We can also define sensitivity, specificity, and other metrics for each class in multi-class classification.\n",
    "* We define each class in turn to be \"positive\" ($y=1$) and all other classes as negative ($y=0$).\n",
    "* We compute sensitivity and specificity for each \"positive\" class using the usual formulas."
   ]
  },
  {
   "cell_type": "markdown",
   "metadata": {
    "slideshow": {
     "slide_type": "skip"
    }
   },
   "source": [
    "In multi-class settings, we average binary metrics in various ways:\n",
    "* `macro`: We average binary one-vs-all metrics for each class.\n",
    "$$\\text{precision}_\\text{macro} = \\frac{1}{K} \\sum_{k=1}^K \\frac{\\text{TP}_k}{\\text{TP}_k + \\text{FP}_k}$$\n",
    "* `micro`: We average binary metrics across classes.\n",
    "$$\\text{precision}_\\text{micro} = \\frac{\\sum_{k=1}^K \\text{TP}_k}{\\sum_{k=1}^K (\\text{TP}_k + \\text{FP}_k)}$$\n",
    "\n",
    "See the `scikit-learn` [guide](https://scikit-learn.org/stable/modules/model_evaluation.html) for more on model evaluation."
   ]
  },
  {
   "cell_type": "code",
   "execution_count": 6,
   "metadata": {
    "slideshow": {
     "slide_type": "skip"
    }
   },
   "outputs": [
    {
     "name": "stdout",
     "output_type": "stream",
     "text": [
      "              precision    recall  f1-score   support\n",
      "\n",
      "      Setosa       0.95      1.00      0.97        19\n",
      "  Versicolor       0.79      0.92      0.85        24\n",
      "   Virginica       0.50      0.14      0.22         7\n",
      "\n",
      "    accuracy                           0.84        50\n",
      "   macro avg       0.75      0.69      0.68        50\n",
      "weighted avg       0.81      0.84      0.81        50\n",
      "\n"
     ]
    }
   ],
   "source": [
    "from sklearn.metrics import classification_report\n",
    "print(classification_report(y_holdout, y_pred, target_names=['Setosa', 'Versicolor', 'Virginica']))"
   ]
  },
  {
   "cell_type": "markdown",
   "metadata": {
    "slideshow": {
     "slide_type": "slide"
    }
   },
   "source": [
    "<left><img width=25% src=\"img/cornell_tech2.svg\"></left>\n",
    "\n",
    "# Part 3: Learning Curves\n",
    "\n",
    "Learning curves are a common and useful tool for performing bias/variance analysis in a deeper way.\n",
    "\n",
    "This section is mostly based on [materials](https://www.deeplearning.ai/machine-learning-yearning/) from an e-book by Andrew Ng."
   ]
  },
  {
   "cell_type": "markdown",
   "metadata": {
    "slideshow": {
     "slide_type": "slide"
    }
   },
   "source": [
    "# Review: Overfitting (Variance)\n",
    "\n",
    "Overfitting is one of the most common failure modes of machine learning.\n",
    "* A very expressive model fits the training dataset perfectly.\n",
    "* The model doesn't generalize to new data\n",
    "\n",
    "Models that overfit are said to be __high variance__."
   ]
  },
  {
   "cell_type": "markdown",
   "metadata": {
    "slideshow": {
     "slide_type": "slide"
    }
   },
   "source": [
    "# Review: Underfitting (Bias)\n",
    "\n",
    "Underfitting is another common problem in machine learning.\n",
    "* The model is too simple to fit the data well.\n",
    "* It's not accurate on training data and is not accurate on new data.\n",
    "\n",
    "Because the model cannot fit the data, we say it's __high bias__."
   ]
  },
  {
   "cell_type": "markdown",
   "metadata": {
    "slideshow": {
     "slide_type": "slide"
    }
   },
   "source": [
    "# Learning Curves\n",
    "\n",
    "Learning curves show performance as a function of __training set size__.\n",
    "<center><img width=60% src=\"img/learning_curve1.png\"></center>\n",
    "\n",
    "Learning curves are defined for __fixed hyperparameters__. Observe that dev set error decreases as we give the model more data."
   ]
  },
  {
   "cell_type": "markdown",
   "metadata": {
    "slideshow": {
     "slide_type": "slide"
    }
   },
   "source": [
    "# Visualizing Ideal Performance\n",
    "\n",
    "It is often very useful to have a target upper bound on performance.\n",
    "<center><img width=60% src=\"img/learning_curve2.png\"></center>\n",
    "Extrapolating the red curve suggests how much additional data we need."
   ]
  },
  {
   "cell_type": "markdown",
   "metadata": {
    "slideshow": {
     "slide_type": "subslide"
    }
   },
   "source": [
    "Below, the dev error has plateaued: more data will not be useful.\n",
    "<center><img width=80% src=\"img/learning_curve3.png\"></center>"
   ]
  },
  {
   "cell_type": "markdown",
   "metadata": {
    "slideshow": {
     "slide_type": "slide"
    }
   },
   "source": [
    "# Learning Curves for the Training Set\n",
    "\n",
    "We can further augment this plot with training set performance.\n",
    "<center><img width=70% src=\"img/learning_curve4.png\"></center>\n",
    "The blue curve shows training error as a function of training set size."
   ]
  },
  {
   "cell_type": "markdown",
   "metadata": {
    "slideshow": {
     "slide_type": "subslide"
    }
   },
   "source": [
    "A few observations can be made here:\n",
    "* Training error is less that dev set error: training data is easier to fit.\n",
    "* Training error *increases* with training set size because our model overfits small datasets."
   ]
  },
  {
   "cell_type": "markdown",
   "metadata": {
    "slideshow": {
     "slide_type": "slide"
    }
   },
   "source": [
    "# Diagnosing High Bias\n",
    "\n",
    "Learning curves can reveal when we have a bias problem.\n",
    "<center><img width=60% src=\"img/learning_curve5.png\"></center>\n",
    "Here, the model can't fit larger datasets, hence it's underfitting."
   ]
  },
  {
   "cell_type": "markdown",
   "metadata": {
    "slideshow": {
     "slide_type": "subslide"
    }
   },
   "source": [
    "Plotting the training error helps check if dev error plateaued.\n",
    "<center><img width=70% src=\"img/learning_curve6.png\"></center>\n",
    "Here, adding data can no longer help: the blue error can only increase and thus dev error cannot decrease."
   ]
  },
  {
   "cell_type": "markdown",
   "metadata": {
    "slideshow": {
     "slide_type": "skip"
    }
   },
   "source": [
    "# Relationship to Bias/Variance Analysis\n",
    "\n",
    "Bias/variance analysis correspond to looking at the very last point on the learning curves.\n",
    "<center><img width=60% src=\"img/learning_curve6.png\"></center>\n",
    "Looking at the entire curve ensures a more reliable diagnosis."
   ]
  },
  {
   "cell_type": "markdown",
   "metadata": {
    "slideshow": {
     "slide_type": "slide"
    }
   },
   "source": [
    "# Diagnosing High Variance\n",
    "\n",
    "The following plot shows we have high variance.\n",
    "<center><img width=70% src=\"img/learning_curve7.png\"></center>\n",
    "Training error is small (near optimal), but dev set error is large. We can address this by adding more data."
   ]
  },
  {
   "cell_type": "markdown",
   "metadata": {
    "slideshow": {
     "slide_type": "subslide"
    }
   },
   "source": [
    "In this plot, we have both high variance and high bias.\n",
    "<center><img width=70% src=\"img/learning_curve8.png\"></center>\n",
    "The training error exceeds optimal error; dev set error is even higher."
   ]
  },
  {
   "cell_type": "markdown",
   "metadata": {
    "slideshow": {
     "slide_type": "skip"
    }
   },
   "source": [
    "# Practical Considerations\n",
    "\n",
    "In practice, the following tricks are useful.\n",
    "* When data is small, performance estimates are noisy, and curves are non-smooth.\n",
    "* The solution is to average over multiple models trained on random subsets of $m$ points, for each $m$.\n",
    "* If classes are imbalanced, choose metrics that account for this."
   ]
  },
  {
   "cell_type": "markdown",
   "metadata": {
    "slideshow": {
     "slide_type": "slide"
    }
   },
   "source": [
    "# Learning Curves: An Example\n",
    "\n",
    "To further illustrate the idea of learning curves, consider the following example."
   ]
  },
  {
   "cell_type": "markdown",
   "metadata": {
    "slideshow": {
     "slide_type": "subslide"
    }
   },
   "source": [
    "We will use the `sklearn` digits dataset, a downscaled version of MNIST."
   ]
  },
  {
   "cell_type": "code",
   "execution_count": 16,
   "metadata": {
    "slideshow": {
     "slide_type": "fragment"
    }
   },
   "outputs": [],
   "source": [
    "# Example from https://scikit-learn.org/stable/auto_examples/model_selection/plot_learning_curve.html\n",
    "from sklearn.datasets import load_digits\n",
    "X, y = load_digits(return_X_y=True)"
   ]
  },
  {
   "cell_type": "markdown",
   "metadata": {
    "slideshow": {
     "slide_type": "subslide"
    }
   },
   "source": [
    "We can visualize these digits as follows:"
   ]
  },
  {
   "cell_type": "code",
   "execution_count": 17,
   "metadata": {
    "slideshow": {
     "slide_type": "fragment"
    }
   },
   "outputs": [
    {
     "data": {
      "text/plain": [
       "<Figure size 576x1152 with 0 Axes>"
      ]
     },
     "metadata": {},
     "output_type": "display_data"
    },
    {
     "data": {
      "image/png": "[encoded data removed]",
      "text/plain": [
       "<Figure size 432x288 with 10 Axes>"
      ]
     },
     "metadata": {
      "needs_background": "light"
     },
     "output_type": "display_data"
    }
   ],
   "source": [
    "from matplotlib import pyplot as plt\n",
    "\n",
    "plt.figure(figsize=(8,16))\n",
    "_, axes = plt.subplots(2, 5)\n",
    "images_and_labels = list(zip(digits.images, digits.target))\n",
    "for ax, (image, label) in zip(axes.flatten(), images_and_labels[:10]):\n",
    "    ax.set_axis_off()\n",
    "    ax.imshow(image, cmap=plt.cm.gray_r, interpolation='nearest')\n",
    "    ax.set_title('Digit %i' % label)"
   ]
  },
  {
   "cell_type": "markdown",
   "metadata": {
    "slideshow": {
     "slide_type": "skip"
    }
   },
   "source": [
    "This is boilerplate code for visualizing learning curves and it's not essential to understand this example."
   ]
  },
  {
   "cell_type": "code",
   "execution_count": 30,
   "metadata": {
    "slideshow": {
     "slide_type": "subslide"
    }
   },
   "outputs": [],
   "source": [
    "import numpy as np\n",
    "from sklearn.model_selection import learning_curve\n",
    "\n",
    "def plot_learning_curve(estimator, title, X, y, axes=None, ylim=None, cv=None,\n",
    "                        n_jobs=None, train_sizes=np.linspace(.1, 1.0, 5)):\n",
    "    \"\"\"Generate learning curves for an algorithm.\"\"\"\n",
    "    if axes is None:\n",
    "        _, axes = plt.subplots(1, 3, figsize=(20, 5))\n",
    "\n",
    "    axes[0].set_title(title)\n",
    "    if ylim is not None:\n",
    "        axes[0].set_ylim(*ylim)\n",
    "    axes[0].set_xlabel(\"Training examples\")\n",
    "    axes[0].set_ylabel(\"Score\")\n",
    "\n",
    "    train_sizes, train_scores, test_scores, fit_times, _ = \\\n",
    "        learning_curve(estimator, X, y, cv=cv, n_jobs=n_jobs,\n",
    "                       train_sizes=train_sizes,\n",
    "                       return_times=True)\n",
    "    train_scores_mean = np.mean(train_scores, axis=1)\n",
    "    train_scores_std = np.std(train_scores, axis=1)\n",
    "    test_scores_mean = np.mean(test_scores, axis=1)\n",
    "    test_scores_std = np.std(test_scores, axis=1)\n",
    "    fit_times_mean = np.mean(fit_times, axis=1)\n",
    "    fit_times_std = np.std(fit_times, axis=1)\n",
    "\n",
    "    # Plot learning curve\n",
    "    axes[0].grid()\n",
    "    axes[0].fill_between(train_sizes, train_scores_mean - train_scores_std,\n",
    "                         train_scores_mean + train_scores_std, alpha=0.1,\n",
    "                         color=\"r\")\n",
    "    axes[0].fill_between(train_sizes, test_scores_mean - test_scores_std,\n",
    "                         test_scores_mean + test_scores_std, alpha=0.1,\n",
    "                         color=\"g\")\n",
    "    axes[0].plot(train_sizes, train_scores_mean, 'o-', color=\"r\",\n",
    "                 label=\"Training Accuracy\")\n",
    "    axes[0].plot(train_sizes, test_scores_mean, 'o-', color=\"g\",\n",
    "                 label=\"Dev Set Accuracy\")\n",
    "    axes[0].legend(loc=\"best\")\n",
    "\n",
    "    return plt"
   ]
  },
  {
   "cell_type": "markdown",
   "metadata": {
    "slideshow": {
     "slide_type": "subslide"
    }
   },
   "source": [
    "We visualize learning curves for two algorithms:\n",
    "* __Gaussian discriminant analysis__ with diagonal covariance matrices\n",
    "* A __support vector machine__ with a radial basis function (RBF) kernel"
   ]
  },
  {
   "cell_type": "code",
   "execution_count": 31,
   "metadata": {
    "slideshow": {
     "slide_type": "subslide"
    }
   },
   "outputs": [
    {
     "data": {
      "text/plain": [
       "<module 'matplotlib.pyplot' from '/Users/kuleshov/work/env/aml/lib/python3.6/site-packages/matplotlib/pyplot.py'>"
      ]
     },
     "execution_count": 31,
     "metadata": {},
     "output_type": "execute_result"
    },
    {
     "data": {
      "image/png": "[encoded data removed]",
      "text/plain": [
       "<Figure size 720x360 with 2 Axes>"
      ]
     },
     "metadata": {
      "needs_background": "light"
     },
     "output_type": "display_data"
    }
   ],
   "source": [
    "from sklearn.model_selection import ShuffleSplit\n",
    "from sklearn.naive_bayes import GaussianNB\n",
    "from sklearn.svm import SVC\n",
    "\n",
    "fig, axes = plt.subplots(1, 2, figsize=(10, 5))\n",
    "\n",
    "# This is a technical detail, but we will obtain dev set performance via\n",
    "# cross-valation rather that via a dev set.\n",
    "# Cross validation is a technique that emulates a separate dev set with small data.\n",
    "# We also use 100 iterations to get smoother mean test and train curves,\n",
    "# each time with 20% data randomly selected as a validation set.\n",
    "cv = ShuffleSplit(n_splits=100, test_size=0.2, random_state=0)\n",
    "\n",
    "title = \"Learning Curves (Naive Bayes)\"\n",
    "plot_learning_curve(GaussianNB(), title, X, y, axes=[axes[0]], ylim=(0.7, 1.01), cv=cv, n_jobs=4)\n",
    "\n",
    "cv = ShuffleSplit(n_splits=10, test_size=0.2, random_state=0)\n",
    "title = r\"Learning Curves (SVM, RBF kernel, $\\gamma=0.001$)\"\n",
    "plot_learning_curve(SVC(gamma=0.001), title, X, y, axes=[axes[1]], ylim=(0.7, 1.01),cv=cv, n_jobs=4)"
   ]
  },
  {
   "cell_type": "markdown",
   "metadata": {
    "slideshow": {
     "slide_type": "subslide"
    }
   },
   "source": [
    "We can draw a few takeways:\n",
    "* GDA __underfits__: performance saturates after ~1,400 examples.\n",
    "* The SVM is much more expressive: it keeps improving in dev set performance as we give it more data."
   ]
  },
  {
   "cell_type": "markdown",
   "metadata": {
    "slideshow": {
     "slide_type": "slide"
    }
   },
   "source": [
    "# Limitations of Learning Curves\n",
    "\n",
    "The main limitations of learning curves include:\n",
    "1. Computational time needed to learn the curves.\n",
    "2. Learning curves can be noisy and require human intuition to read."
   ]
  },
  {
   "cell_type": "markdown",
   "metadata": {
    "slideshow": {
     "slide_type": "slide"
    }
   },
   "source": [
    "<left><img width=25% src=\"img/cornell_tech2.svg\"></left>\n",
    "\n",
    "# Part 4: Loss Curves\n",
    "\n",
    "Another way to understand the performance of the model is to visualize its objective as we train the model.\n",
    "\n",
    "This section is based on [materials](https://cs231n.github.io/neural-networks-3/) by Andrej Karpathy."
   ]
  },
  {
   "cell_type": "markdown",
   "metadata": {
    "slideshow": {
     "slide_type": "slide"
    }
   },
   "source": [
    "# Loss Curves\n",
    "\n",
    "Many algorithms minimize a loss function using an iterative optimization procedure like gradient descent."
   ]
  },
  {
   "cell_type": "markdown",
   "metadata": {
    "slideshow": {
     "slide_type": "fragment"
    }
   },
   "source": [
    "Loss curves plot the __training objective__ as a function of the number of __training steps__ on training or development datasets."
   ]
  },
  {
   "cell_type": "markdown",
   "metadata": {
    "slideshow": {
     "slide_type": "slide"
    }
   },
   "source": [
    "# Diagnosing Bias and Variance\n",
    "\n",
    "Loss curves provide another way to diagnose bias and variance.\n",
    "<center><img width=60% src=\"img/loss_curve1.png\"></center>"
   ]
  },
  {
   "cell_type": "markdown",
   "metadata": {
    "slideshow": {
     "slide_type": "subslide"
    }
   },
   "source": [
    "A few observations can be made here:\n",
    "* As we train the model for more epochs, training accuracy improves.\n",
    "* When we are *not overfitting* (green), validation accuracy tracks training accuracy."
   ]
  },
  {
   "cell_type": "markdown",
   "metadata": {
    "slideshow": {
     "slide_type": "fragment"
    }
   },
   "source": [
    "* When we *overfit* (blue), validation and training accuracies have a large gap, and validation accuracy eventually even decreases."
   ]
  },
  {
   "cell_type": "markdown",
   "metadata": {
    "slideshow": {
     "slide_type": "slide"
    }
   },
   "source": [
    "# Overtraining\n",
    "\n",
    "A failure mode of some machine learning algorithms is *overtraining*.\n",
    "<center><img width=50% src=\"img/loss_curve3.png\"></center>\n",
    "Model performance worsens after some number of training steps. The solution is to train for less or preferably to regularize the model."
   ]
  },
  {
   "cell_type": "markdown",
   "metadata": {
    "slideshow": {
     "slide_type": "subslide"
    }
   },
   "source": [
    "A closely related problem is __undertraining__: not training the model for long enough.\n",
    "\n",
    "This can be diagnosed via a learning curve that shows that dev set performance is still on an improving trajectory."
   ]
  },
  {
   "cell_type": "markdown",
   "metadata": {
    "slideshow": {
     "slide_type": "slide"
    }
   },
   "source": [
    "# Diagnosing Optimization Issues\n",
    "\n",
    "Loss curves also enable diagnosing optimization problems.\n",
    "<center><img width=50% src=\"img/loss_curve2.png\"></center>\n",
    "Here, we show training set accuracy for different learning rates."
   ]
  },
  {
   "cell_type": "markdown",
   "metadata": {
    "slideshow": {
     "slide_type": "subslide"
    }
   },
   "source": [
    "Each line is a loss curve with a different learning rate (LR).\n",
    "* The blue training is still decreasing at the end: the LR is too low.\n",
    "* The green line plateaus too soon and too high indicating a high LR.\n",
    "* The yellow curve explodes: the LR was soo high that parameters took a step into a very bad direction.\n",
    "\n",
    "The red loss curve is not too fast and not too slow."
   ]
  },
  {
   "cell_type": "markdown",
   "metadata": {
    "slideshow": {
     "slide_type": "slide"
    }
   },
   "source": [
    "# Pros and Cons of Loss Curves\n",
    "\n",
    "Advantages of using loss curves include the following.\n",
    "1. Producing loss curves doesn't require extra computation.\n",
    "2. Loss curves can detect optimization problems and overtraining.\n",
    "\n",
    "Loss curves don't diagnose the utility of adding more data; when bias/variance diagnosis is ambiguous, use learning curves."
   ]
  },
  {
   "cell_type": "markdown",
   "metadata": {
    "slideshow": {
     "slide_type": "slide"
    }
   },
   "source": [
    "<left><img width=25% src=\"img/cornell_tech2.svg\"></left>\n",
    "\n",
    "# Part 4: Validation Curves\n",
    "\n",
    "Validation curves help us understand the effects of different hyper-parameters."
   ]
  },
  {
   "cell_type": "markdown",
   "metadata": {
    "slideshow": {
     "slide_type": "slide"
    }
   },
   "source": [
    "# Review: Model Development Workflow\n",
    "\n",
    "The machine learning development workflow has three steps:\n",
    "1. __Training:__ Try a new model and fit it on the training set."
   ]
  },
  {
   "cell_type": "markdown",
   "metadata": {
    "slideshow": {
     "slide_type": "fragment"
    }
   },
   "source": [
    "2. __Model Selection__: Estimate performance on the development set using metrics. Based on results, try a new model idea in step #1."
   ]
  },
  {
   "cell_type": "markdown",
   "metadata": {
    "slideshow": {
     "slide_type": "fragment"
    }
   },
   "source": [
    "3. __Evaluation__: Finally, estimate real-world performance on test set."
   ]
  },
  {
   "cell_type": "markdown",
   "metadata": {
    "slideshow": {
     "slide_type": "slide"
    }
   },
   "source": [
    "# Validation Curves\n",
    "\n",
    "ML models normally have hyper-parameters, e.g. L2 regularization strength, neural net layer size, number of K-Means clusters, etc."
   ]
  },
  {
   "cell_type": "markdown",
   "metadata": {
    "slideshow": {
     "slide_type": "fragment"
    }
   },
   "source": [
    "Loss curves plot __model peformance__ as a function of __hyper-parameter values__ on training or development datasets."
   ]
  },
  {
   "cell_type": "markdown",
   "metadata": {
    "slideshow": {
     "slide_type": "slide"
    }
   },
   "source": [
    "# Validation Curve: An Example\n",
    "\n",
    "Consider the following example, in which we train a Ridge model on the digits dataset."
   ]
  },
  {
   "cell_type": "markdown",
   "metadata": {
    "slideshow": {
     "slide_type": "subslide"
    }
   },
   "source": [
    "Recall the digits dataset introduced earlier in this lecture."
   ]
  },
  {
   "cell_type": "code",
   "execution_count": 3,
   "metadata": {
    "slideshow": {
     "slide_type": "fragment"
    }
   },
   "outputs": [
    {
     "data": {
      "text/plain": [
       "<Figure size 576x1152 with 0 Axes>"
      ]
     },
     "metadata": {},
     "output_type": "display_data"
    },
    {
     "data": {
      "image/png": "[encoded data removed]",
      "text/plain": [
       "<Figure size 432x288 with 10 Axes>"
      ]
     },
     "metadata": {
      "needs_background": "light"
     },
     "output_type": "display_data"
    }
   ],
   "source": [
    "from matplotlib import pyplot as plt\n",
    "\n",
    "plt.figure(figsize=(8,16))\n",
    "_, axes = plt.subplots(2, 5)\n",
    "images_and_labels = list(zip(digits.images, digits.target))\n",
    "for ax, (image, label) in zip(axes.flatten(), images_and_labels[:10]):\n",
    "    ax.set_axis_off()\n",
    "    ax.imshow(image, cmap=plt.cm.gray_r, interpolation='nearest')\n",
    "    ax.set_title('Digit %i' % label)"
   ]
  },
  {
   "cell_type": "markdown",
   "metadata": {
    "slideshow": {
     "slide_type": "subslide"
    }
   },
   "source": [
    "We can train an SVM with and RBF kernel for different values of bandwidth $\\gamma$ using the `validation_curve` function."
   ]
  },
  {
   "cell_type": "code",
   "execution_count": 32,
   "metadata": {
    "slideshow": {
     "slide_type": "fragment"
    }
   },
   "outputs": [],
   "source": [
    "from sklearn.model_selection import validation_curve\n",
    "\n",
    "# https://scikit-learn.org/stable/auto_examples/model_selection/plot_validation_curve.html\n",
    "param_range = np.logspace(-6, -1, 5)\n",
    "train_scores, test_scores = validation_curve(\n",
    "    SVC(), X, y, param_name=\"gamma\", param_range=param_range,\n",
    "    scoring=\"accuracy\", n_jobs=1)\n",
    "train_scores_mean = np.mean(train_scores, axis=1)\n",
    "train_scores_std = np.std(train_scores, axis=1)\n",
    "test_scores_mean = np.mean(test_scores, axis=1)\n",
    "test_scores_std = np.std(test_scores, axis=1)"
   ]
  },
  {
   "cell_type": "markdown",
   "metadata": {
    "slideshow": {
     "slide_type": "slide"
    }
   },
   "source": [
    "We visualize this as follows."
   ]
  },
  {
   "cell_type": "code",
   "execution_count": 34,
   "metadata": {
    "slideshow": {
     "slide_type": "fragment"
    }
   },
   "outputs": [
    {
     "data": {
      "text/plain": [
       "<matplotlib.legend.Legend at 0x12cce2f98>"
      ]
     },
     "execution_count": 34,
     "metadata": {},
     "output_type": "execute_result"
    },
    {
     "data": {
      "image/png": "[encoded data removed]",
      "text/plain": [
       "<Figure size 432x288 with 1 Axes>"
      ]
     },
     "metadata": {
      "needs_background": "light"
     },
     "output_type": "display_data"
    }
   ],
   "source": [
    "plt.title(\"Validation Curve with SVM\")\n",
    "plt.xlabel(r\"$\\gamma$\")\n",
    "plt.ylabel(\"Score\")\n",
    "plt.ylim(0.0, 1.1)\n",
    "lw = 2\n",
    "plt.semilogx(param_range, train_scores_mean, label=\"Training accuracy\",\n",
    "             color=\"darkorange\", lw=lw)\n",
    "plt.fill_between(param_range, train_scores_mean - train_scores_std,\n",
    "                 train_scores_mean + train_scores_std, alpha=0.2,\n",
    "                 color=\"darkorange\", lw=lw)\n",
    "plt.semilogx(param_range, test_scores_mean, label=\"Validation accuracy\",\n",
    "             color=\"navy\", lw=lw)\n",
    "plt.fill_between(param_range, test_scores_mean - test_scores_std,\n",
    "                 test_scores_mean + test_scores_std, alpha=0.2,\n",
    "                 color=\"navy\", lw=lw)\n",
    "plt.legend(loc=\"best\")"
   ]
  },
  {
   "cell_type": "markdown",
   "metadata": {
    "slideshow": {
     "slide_type": "subslide"
    }
   },
   "source": [
    "This shows that the SVM:\n",
    "* Underfits for small values of $\\gamma < 10^{-5}$\n",
    "* Overfits for large values of $\\gamma > 10^{-3}$ and the training and validation curves diverge.\n",
    "\n",
    "Medium values of $\\gamma$ are just right."
   ]
  },
  {
   "cell_type": "markdown",
   "metadata": {
    "slideshow": {
     "slide_type": "slide"
    }
   },
   "source": [
    "<left><img width=25% src=\"img/cornell_tech2.svg\"></left>\n",
    "\n",
    "# Part 5: Distribution Mismatch\n",
    "\n",
    "So far, we assumed that the distributions across different datasets are relatively similar.\n",
    "\n",
    "When that is not the case, we may run into errors."
   ]
  },
  {
   "cell_type": "markdown",
   "metadata": {
    "slideshow": {
     "slide_type": "slide"
    }
   },
   "source": [
    "# Review: Datasets for Model Development\n",
    "\n",
    "When developing machine learning models, it is customary to work with three datasets:\n",
    "* __Training set__: Data on which we train the models.\n",
    "* __Development set__ (validation or hold-out set): Data used for tuning models.\n",
    "* __Test set__: Data for evaluating the final performance of our model."
   ]
  },
  {
   "cell_type": "markdown",
   "metadata": {
    "slideshow": {
     "slide_type": "slide"
    }
   },
   "source": [
    "# Review: Choosing Dev and Test Sets\n",
    "\n",
    "The development and test sets should be from the data distribution we will see in production."
   ]
  },
  {
   "cell_type": "markdown",
   "metadata": {
    "slideshow": {
     "slide_type": "fragment"
    }
   },
   "source": [
    "* This is because we want to be optimizing performance in deployment (e.g., classification accuracy on dog images).\n",
    "* The training data could potentially be from a different distribution (e.g., include other types of animal images)."
   ]
  },
  {
   "cell_type": "markdown",
   "metadata": {
    "slideshow": {
     "slide_type": "slide"
    }
   },
   "source": [
    "# Distribution Mismatch\n",
    "\n",
    "We talk about distribution mismatch when the previously stated conditions don't hold, i.e. we have the following:\n",
    "1. Our dev and test sets are no longer representative.\n",
    "2. Our training set is too different from the dev set."
   ]
  },
  {
   "cell_type": "markdown",
   "metadata": {
    "slideshow": {
     "slide_type": "skip"
    }
   },
   "source": [
    "# Considerations For The Training Set\n",
    "\n",
    "When adding more data to the training set,\n",
    "1. The new data needs to be useful, e.g., images of animals (but probably not cars!) for a cats classifier.\n",
    "2. The model needs to be expressive to be accurate on all types of input data."
   ]
  },
  {
   "cell_type": "markdown",
   "metadata": {
    "slideshow": {
     "slide_type": "slide"
    }
   },
   "source": [
    "# The Training Dev Set\n",
    "\n",
    "In order to diagnose mismatch problems between the training and dev sets, we may create a new dataset."
   ]
  },
  {
   "cell_type": "markdown",
   "metadata": {
    "slideshow": {
     "slide_type": "fragment"
    }
   },
   "source": [
    "The __training dev set__ is a random subset of the training set used as a second validation set."
   ]
  },
  {
   "cell_type": "markdown",
   "metadata": {
    "slideshow": {
     "slide_type": "slide"
    }
   },
   "source": [
    "# Diagnosing Bias and Variance\n",
    "\n",
    "We may use this new dataset to diagnose distribution mismatch. Suppose dev set error is high.\n",
    "* If the training error is low, but training dev and standard dev errors are high, we are overfitting.\n",
    "* If the training and training dev errors are low, but dev error are high, we have distribution mismatch."
   ]
  },
  {
   "cell_type": "markdown",
   "metadata": {
    "slideshow": {
     "slide_type": "subslide"
    }
   },
   "source": [
    "As an example, suppose are building a cat image classifier.\n",
    "* The training set consists of cats and other animals.\n",
    "* The traning dev set also containts cats and other animals.\n",
    "* The dev and test sets only contain cats."
   ]
  },
  {
   "cell_type": "markdown",
   "metadata": {
    "slideshow": {
     "slide_type": "subslide"
    }
   },
   "source": [
    "Consider the following example:\n",
    "* Our training set error is 2%.\n",
    "* Our training dev set error is 6%.\n",
    "* Our dev set error is 6%.\n",
    "\n",
    "This is a typical example of __high variance__ (overfitting)."
   ]
  },
  {
   "cell_type": "markdown",
   "metadata": {
    "slideshow": {
     "slide_type": "subslide"
    }
   },
   "source": [
    "Next, consider another example:\n",
    "* Our training set error is 10%.\n",
    "* Our training dev set error is 11%.\n",
    "* Our dev set error is 12%.\n",
    "* Human error is 1%.\n",
    "\n",
    "This looks like an example of __high avoidable bias__ (underfitting)."
   ]
  },
  {
   "cell_type": "markdown",
   "metadata": {
    "slideshow": {
     "slide_type": "subslide"
    }
   },
   "source": [
    "Finally, suppose you see the following:\n",
    "* Our training set error is 4%.\n",
    "* Our training dev set error is 5%.\n",
    "* Our dev set error is 13%.\n",
    "\n",
    "This is a model that is generalizing to the training dev set, but not the standard dev set. Distribution mismatch is a problem."
   ]
  },
  {
   "cell_type": "markdown",
   "metadata": {
    "slideshow": {
     "slide_type": "slide"
    }
   },
   "source": [
    "# Quantifying Distribution Mismatch\n",
    "\n",
    "We may quantify this issue more precisely using the following decomposition.\n",
    "\n",
    "\\begin{align*}\n",
    "\\text{dev error} & = \n",
    "(\\underbrace{\\text{dev error} - \\text{dev train error}}_\\text{distribution mismatch}) \\\\\n",
    "& + (\\underbrace{\\text{dev train error} - \\text{train error}}_\\text{variance})\n",
    "+ (\\underbrace{\\text{train error} - \\text{opt error}}_\\text{avoidable bias}) \\\\\n",
    "& + \\underbrace{\\text{opt error}}_\\text{unavoidable bias}\n",
    "\\end{align*}"
   ]
  },
  {
   "cell_type": "markdown",
   "metadata": {
    "slideshow": {
     "slide_type": "slide"
    }
   },
   "source": [
    "# Beyond the Training Set\n",
    "\n",
    "We may also apply this analysis to the dev and test sets to determine if they're stale.\n",
    "1. First, collect additional real-world data.\n",
    "2. If the model generalizes well the current dev and test sets but not the real-world data, the current data is stale!"
   ]
  },
  {
   "cell_type": "markdown",
   "metadata": {
    "slideshow": {
     "slide_type": "slide"
    }
   },
   "source": [
    "# Addressing Data Mismatch\n",
    "\n",
    "Correcting data mismatch requires:\n",
    "1. Understanding the properties of the data that cause the mismatch.\n",
    "2. Removing mismatching data and adding data that matches better.\n",
    "\n",
    "The best way to understand data mismatch is using error analysis."
   ]
  }
 ],
 "metadata": {
  "accelerator": "GPU",
  "celltoolbar": "Slideshow",
  "colab": {
   "collapsed_sections": [],
   "name": "neural-ode.ipynb",
   "provenance": []
  },
  "kernelspec": {
   "display_name": "Python 3",
   "language": "python",
   "name": "python3"
  },
  "language_info": {
   "codemirror_mode": {
    "name": "ipython",
    "version": 3
   },
   "file_extension": ".py",
   "mimetype": "text/x-python",
   "name": "python",
   "nbconvert_exporter": "python",
   "pygments_lexer": "ipython3",
   "version": "3.7.0"
  },
  "rise": {
   "controlsTutorial": false,
   "height": 900,
   "help": false,
   "margin": 0,
   "maxScale": 2,
   "minScale": 0.2,
   "progress": true,
   "scroll": true,
   "theme": "simple",
   "width": 1200
  }
 },
 "nbformat": 4,
 "nbformat_minor": 1
}
