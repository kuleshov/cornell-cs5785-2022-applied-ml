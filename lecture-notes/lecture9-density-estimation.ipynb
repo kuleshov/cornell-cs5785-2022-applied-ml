{
 "cells": [
  {
   "cell_type": "markdown",
   "metadata": {
    "colab_type": "text",
    "id": "i_f5u2x9nn6I",
    "slideshow": {
     "slide_type": "slide"
    }
   },
   "source": [
    "# Lecture 9: Density Estimation"
   ]
  },
  {
   "cell_type": "markdown",
   "metadata": {
    "slideshow": {
     "slide_type": "slide"
    }
   },
   "source": [
    "# 9.1. Outlier Detection Using Probabilistic Models\n",
    "\n",
    "After the introduction of unsupervised learning from last lecture, we will now look at a specific problem which unsupervised learning can be used to solve, density estimation.\n",
    "\n",
    "Density estimation is the problem of estimating a probability distribution from data. Let's first look at a motivating practical problem that involves performing density estimation: outlier detection."
   ]
  },
  {
   "cell_type": "markdown",
   "metadata": {
    "slideshow": {
     "slide_type": "slide"
    }
   },
   "source": [
    "## 9.1.1. Review: Unsupervised Learning\n",
    "\n",
    "We have a dataset *without* labels. Our goal is to learn something interesting about the structure of the data:\n",
    "\n",
    "* Clusters hidden in the dataset.\n",
    "\n",
    "* Useful signal hidden in noise, e.g. human speech over a noisy phone.\n",
    "\n",
    "* Outliers: particularly unusual and/or interesting datapoints."
   ]
  },
  {
   "cell_type": "markdown",
   "metadata": {
    "slideshow": {
     "slide_type": "slide"
    }
   },
   "source": [
    "## 9.1.2. Outlier Detection\n",
    "\n",
    "Let's us first formulate the problem of outlier detection. \n",
    "\n",
    "Suppose we have a (unsupervised) dataset $\\mathcal{D} = \\{x^{(i)} \\mid i = 1,2,...,n\\}$. For example, each $x^{(i)}$  could represent:\n",
    "\n",
    "* A summary of traffic logs on a computer network\n",
    "\n",
    "* The state of a machine in a factory"
   ]
  },
  {
   "cell_type": "markdown",
   "metadata": {
    "slideshow": {
     "slide_type": "fragment"
    }
   },
   "source": [
    "The goal of outlier detection is, given a new input $x'$, we want to determine whether $x'$ is \"normal\" or not. The notion of \"normal\" is elaborated in the below section."
   ]
  },
  {
   "cell_type": "markdown",
   "metadata": {
    "slideshow": {
     "slide_type": "slide"
    }
   },
   "source": [
    "### 9.1.2.1. Data Distribution and Outliers\n",
    "\n",
    "Formally, we assume that the dataset $\\mathcal{D}$ is sampled IID from the *data distribution* $P_\\text{data}$. We denote this as\n",
    "$$x \\sim P_\\text{data}.$$"
   ]
  },
  {
   "cell_type": "markdown",
   "metadata": {
    "slideshow": {
     "slide_type": "fragment"
    }
   },
   "source": [
    "Outlier detection can be thought of as answering the question:\n",
    "\n",
    "$$ \\text{Does the new point $x'$ originate from $P_\\text{data}$?} $$"
   ]
  },
  {
   "cell_type": "markdown",
   "metadata": {
    "slideshow": {
     "slide_type": "slide"
    }
   },
   "source": [
    "## 9.1.3. Density Estimation\n",
    "\n",
    "So how can we detect outliers? We can use density estimation to help us do that!\n",
    "\n",
    "Definition: An unsupervised probabilistic model is a probability distribution that maps datapoints to probabilities:\n",
    "$$P_\\theta(x) : \\mathcal{X} \\to [0,1].$$\n",
    "Probabilistic models often have *parameters* $\\theta \\in \\Theta$. \n",
    "\n",
    "(For 9.1, we will assume our interested probabilistic models do have a set of finite parameters $\\theta$ that nicely describe the behavior of the probabilistic model, i.e., they are \"parametric\". This means choosing a good model is a matter of choosing a good $\\theta$)\n",
    "\n",
    "The task of __density estimation__ is to learn a probablisitc model $P_\\theta$ on an unsupervised dataset $\\mathcal{D}$ to approximate the true data distribution $P_\\text{data}$."
   ]
  },
  {
   "cell_type": "markdown",
   "metadata": {
    "slideshow": {
     "slide_type": "slide"
    }
   },
   "source": [
    "### 9.1.3.1. Outlier Detection Using Density Estimation\n",
    "\n",
    "Recall that in outlier detection, whether an input is \"normal\" translates to whether the input originate from the data distribution $P_\\text{data}$. We need to somewhat know $P_\\text{data}$ in order to say if an input is an outlier.\n",
    "\n",
    "Density estimation is precisely the task of estimating $P_\\text{data}$ with $P_\\theta$.\n",
    "\n",
    "Thus, we can perform outlier detection with probabilistic models:\n",
    "\n",
    "1. __Density estimation__: We fit $P_\\theta$ on $\\mathcal{D}$ to approximate $P_\\text{data}$\n",
    "\n",
    "2. __Outlier detection__: Given $x'$, we use $P_\\theta(x')$ to determine if $x'$ is an outlier."
   ]
  },
  {
   "cell_type": "markdown",
   "metadata": {
    "slideshow": {
     "slide_type": "skip"
    }
   },
   "source": [
    "### 9.1.3.2. Why Use Probabilistic Models?\n",
    "\n",
    "There are many other tasks that we can solve with a good model $P_\\theta$.\n",
    "\n",
    "1. Generation: sample new objects from $P_\\theta$, such as images.\n",
    "\n",
    "2. Structure learning: find interesting structure in $P_\\text{data}$\n",
    "\n",
    "3. Density estimation: approximate $P_\\theta \\approx P_\\text{data}$ and use it to solve any downstream task (generation, clustering, outlier detection, etc.).\n",
    "\n",
    "We are going to be interested in the latter."
   ]
  },
  {
   "cell_type": "markdown",
   "metadata": {
    "slideshow": {
     "slide_type": "slide"
    }
   },
   "source": [
    "### 9.1.3.3. Maximum Likelihood Estimation\n",
    "\n",
    "So how exactly can one learn a probabilistic model $P_\\theta(x)$, i.e., learn good/optimal $\\theta$, that estimates the data distribution $P_\\text{data}$? \n",
    "\n",
    "One way we can do that is by optimizing\n",
    "the *maximum log-likelihood* objective\n",
    "$$\n",
    "\\max_\\theta \\ell(\\theta) = \\max_{\\theta} \\frac{1}{n}\\sum_{i=1}^n \\log P_\\theta({x}^{(i)}).\n",
    "$$\n",
    "\n",
    "This asks that $P_\\theta$ assign a high probability to the training instances in the dataset $\\mathcal{D}$."
   ]
  },
  {
   "cell_type": "markdown",
   "metadata": {
    "slideshow": {
     "slide_type": "subslide"
    }
   },
   "source": [
    "Maximizing likelihood is closely related to minimizing the Kullback-Leibler (KL) divergence $D(\\cdot\\|\\cdot)$ between the model distribution and the data distribution.\n",
    "$$\n",
    "D(P_\\text{data} \\| P_\\theta) = \\sum_{{\\bf x}} P_\\text{data}({\\bf x}) \\log \\frac{P_\\text{data}({\\bf x})}{P_\\theta({\\bf x})}.\n",
    "$$\n",
    "\n",
    "The KL divergence is always non-negative, and equals zero when $P_\\text{data}$ and $P_\\theta$ are identical. This makes it a natural measure of similarity that's useful for comparing distributions. "
   ]
  },
  {
   "cell_type": "markdown",
   "metadata": {
    "slideshow": {
     "slide_type": "slide"
    }
   },
   "source": [
    "### 9.1.3.4. Toy Example: Flipping a Random Coin\n",
    "\n",
    "How should we choose $P_\\theta(x)$, i.e., choose $\\theta$, if 3 out of 5 coin tosses are heads? Let's apply maximum likelihood learning."
   ]
  },
  {
   "cell_type": "markdown",
   "metadata": {
    "slideshow": {
     "slide_type": "fragment"
    }
   },
   "source": [
    "* Our model is $P_\\theta(x=H)=\\theta$ and $P_\\theta(x=T)=1-\\theta$\n",
    "\n",
    "* Our data is: $\\{H,H,T,H,T\\}$ \n",
    "\n",
    "* The likelihood of the data is $\\prod_{i} P_\\theta(x_i)=\\theta \\cdot \\theta \\cdot (1-\\theta) \\cdot \\theta \\cdot (1-\\theta)$."
   ]
  },
  {
   "cell_type": "markdown",
   "metadata": {
    "slideshow": {
     "slide_type": "subslide"
    }
   },
   "source": [
    "We optimize for $\\theta$ which makes the data most likely. What is the solution in this case?\n",
    "\n",
    "Below we plot the likelihood of the observed data (3 heads out of 5 coin tosses) vs $\\theta$:"
   ]
  },
  {
   "cell_type": "code",
   "execution_count": 1,
   "metadata": {
    "slideshow": {
     "slide_type": "fragment"
    }
   },
   "outputs": [
    {
     "data": {
      "text/plain": [
       "[<matplotlib.lines.Line2D at 0x1168f7390>]"
      ]
     },
     "execution_count": 1,
     "metadata": {},
     "output_type": "execute_result"
    },
    {
     "data": {
      "image/png": "[encoded data removed]",
      "text/plain": [
       "<Figure size 432x288 with 1 Axes>"
      ]
     },
     "metadata": {
      "needs_background": "light"
     },
     "output_type": "display_data"
    }
   ],
   "source": [
    "%matplotlib inline\n",
    "import numpy as np\n",
    "from matplotlib import pyplot as plt\n",
    "\n",
    "# our dataset is {H, H, T, H, T}; if theta = P(x=H), we get:\n",
    "coin_likelihood = lambda theta: theta*theta*(1-theta)*theta*(1-theta)\n",
    "\n",
    "theta_vals = np.linspace(0,1)\n",
    "# plot the likedlihood at each theta\n",
    "plt.plot(theta_vals, coin_likelihood(theta_vals))"
   ]
  },
  {
   "cell_type": "markdown",
   "metadata": {
    "slideshow": {
     "slide_type": "subslide"
    }
   },
   "source": [
    "You can see that the optimizing $\\theta$ is $0.6$.\n",
    "\n",
    "Given a trained model $P_\\theta$ with $\\theta = 0.6$, we can ask for the probability of seeing a sequence of ten tails:\n",
    "\n",
    "$$P(\\text{ten tails}) =  \\prod_{j=1}^{10} P_\\theta(x^{(j)}=T) = (1-0.6)^{10} \\approx 10^{-4}$$\n",
    "\n",
    "This gives us an estimate of whether certain sequences are likely or not. If they are not, then they are outliers!"
   ]
  },
  {
   "cell_type": "markdown",
   "metadata": {
    "slideshow": {
     "slide_type": "slide"
    }
   },
   "source": [
    "# 9.2. Kernel Density Estimation\n",
    "\n",
    "Next, we will look at a more sophisticated technique for estimating densities."
   ]
  },
  {
   "cell_type": "markdown",
   "metadata": {
    "slideshow": {
     "slide_type": "slide"
    }
   },
   "source": [
    "## 9.2.1. Review: Density Estimation\n",
    "\n",
    "Recall that the problem of density estimation is to approximate the data distribution $P_\\text{data}$ with the model $P$.\n",
    "$$ P \\approx P_\\text{data}. $$\n",
    "\n",
    "(Notice that the probabilistic model $P$ needs not be nicely characterized by a set of parameters $\\theta$. They can be \"non-parametric\")"
   ]
  },
  {
   "cell_type": "markdown",
   "metadata": {
    "slideshow": {
     "slide_type": "fragment"
    }
   },
   "source": [
    "It's also a general learning task. We can solve many downstream tasks using a good model $P$:\n",
    "\n",
    "* Outlier and novelty detection\n",
    "\n",
    "* Generating new samples $x$\n",
    "\n",
    "* Visualizing and understanding the structure of $P_\\text{data}$"
   ]
  },
  {
   "cell_type": "markdown",
   "metadata": {
    "slideshow": {
     "slide_type": "slide"
    }
   },
   "source": [
    "## 9.2.2. Histogram Density Estimation\n",
    "\n",
    "Perhaps, one of the simplest approaches to density estimation (constructing an estimating probabilistic model) is by forming a histogram. This definitely seems conceptually simpler than maximizing the likelihood of data with respect to a parameterized probabilistic model from earlier.\n",
    "\n",
    "To construct a histogram, we partition the input space $x$ into a $d$-dimensional grid and counts the number of points in each cell/bin."
   ]
  },
  {
   "cell_type": "markdown",
   "metadata": {
    "slideshow": {
     "slide_type": "subslide"
    }
   },
   "source": [
    "### 9.2.2.1. Histogram Density Estimation: Example\n",
    "\n",
    "This is best illustrated by an example. \n",
    "\n",
    "Let's start by creating a simple 1D dataset coming from a mixture of two Gaussians:\n",
    "\n",
    "$$P_\\text{data}(x) = 0.3 \\cdot \\mathcal{N}(x ; \\mu=0, \\sigma=1) + 0.7 \\cdot \\mathcal{N}(x ; \\mu=5, \\sigma=1)$$"
   ]
  },
  {
   "cell_type": "code",
   "execution_count": 23,
   "metadata": {
    "slideshow": {
     "slide_type": "fragment"
    }
   },
   "outputs": [
    {
     "name": "stdout",
     "output_type": "stream",
     "text": [
      "[ 1.62434536 -0.61175641 -0.52817175 -1.07296862  0.86540763 -2.3015387\n",
      "  6.74481176  4.2387931   5.3190391   4.75062962  6.46210794  2.93985929\n",
      "  4.6775828   4.61594565  6.13376944  3.90010873  4.82757179  4.12214158\n",
      "  5.04221375  5.58281521]\n"
     ]
    }
   ],
   "source": [
    "# https://scikit-learn.org/stable/auto_examples/neighbors/plot_kde_1d.html\n",
    "import numpy as np\n",
    "np.random.seed(1)\n",
    "\n",
    "N = 20 # number of points\n",
    "# concat samples from two Gaussians:\n",
    "X = np.concatenate((\n",
    "    np.random.normal(0, 1, int(0.3 * N)), \n",
    "    np.random.normal(5, 1, int(0.7 * N))\n",
    "))[:, np.newaxis]\n",
    "\n",
    "# print out X\n",
    "print(X.flatten())"
   ]
  },
  {
   "cell_type": "markdown",
   "metadata": {
    "slideshow": {
     "slide_type": "subslide"
    }
   },
   "source": [
    "We can now estimate the density using a histogram, counting the number of datapoints in each bin. \n",
    "\n",
    "Below, we visualize the result histogram:"
   ]
  },
  {
   "cell_type": "code",
   "execution_count": 41,
   "metadata": {
    "slideshow": {
     "slide_type": "fragment"
    }
   },
   "outputs": [
    {
     "data": {
      "text/plain": [
       "(-0.02, 0.25)"
      ]
     },
     "execution_count": 41,
     "metadata": {},
     "output_type": "execute_result"
    },
    {
     "data": {
      "image/png": "[encoded data removed]",
      "text/plain": [
       "<Figure size 432x288 with 1 Axes>"
      ]
     },
     "metadata": {
      "needs_background": "light"
     },
     "output_type": "display_data"
    }
   ],
   "source": [
    "import matplotlib.pyplot as plt\n",
    "\n",
    "# We set the number of bins to be equal to 10 - 1 = 9 (np.linspace gets us boundaries of the bins)\n",
    "# Though the figure seems like it has less than 9 bins because some bins do not have any data\n",
    "bins = np.linspace(-5, 10, 10)\n",
    "plt.hist(X[:, 0], bins=bins, density=True) # plot the histogram\n",
    "plt.plot(X[:, 0], np.full(X.shape[0], -0.01), '.k', markersize=10) # plot the points in X\n",
    "plt.xlim(-4, 9)\n",
    "plt.ylim(-0.02, 0.25)"
   ]
  },
  {
   "cell_type": "markdown",
   "metadata": {
    "slideshow": {
     "slide_type": "slide"
    }
   },
   "source": [
    "### 9.2.2.2. Limitations of Histograms\n",
    "\n",
    "Though conceptually simple, histogram-based methods have a number of shortcomings:\n",
    "\n",
    "* The histogram is not \"smooth\". We usually expect elements in the same local region of the data distribution to have somewhat similar probabilities (no sudden change).\n",
    "\n",
    "* The shape of the histogram depends on the bin positions.\n",
    "\n",
    "* The number of grid cells increases exponentially with dimension $d$."
   ]
  },
  {
   "cell_type": "markdown",
   "metadata": {
    "slideshow": {
     "slide_type": "subslide"
    }
   },
   "source": [
    "Let's visualize what we mean when we say that shape of the histogram depends on the histogram bins. Below we plot two figures, where the bins of the right figure are the bins of the left figure but shifted by 0.75:"
   ]
  },
  {
   "cell_type": "code",
   "execution_count": 38,
   "metadata": {
    "slideshow": {
     "slide_type": "fragment"
    }
   },
   "outputs": [
    {
     "data": {
      "image/png": "[encoded data removed]",
      "text/plain": [
       "<Figure size 864x288 with 2 Axes>"
      ]
     },
     "metadata": {
      "needs_background": "light"
     },
     "output_type": "display_data"
    }
   ],
   "source": [
    "fig, ax = plt.subplots(1, 2, sharex=True, sharey=True, figsize=(12,4))\n",
    "ax[0].hist(X[:, 0], bins=bins, density=True) # plot the histogram\n",
    "ax[1].hist(X[:, 0], bins=bins+0.75, density=True) # plot the histogram with bin centers shifted by 0.75\n",
    "for axi in ax.ravel():\n",
    "    axi.plot(X[:, 0], np.full(X.shape[0], -0.01), '.k', markersize=10) # plot the points in X\n",
    "    axi.set_xlim(-4, 9)\n",
    "    axi.set_ylim(-0.02, 0.3)"
   ]
  },
  {
   "cell_type": "markdown",
   "metadata": {},
   "source": [
    "As you can see, the two figures look very different even by just a small shift of bins."
   ]
  },
  {
   "cell_type": "markdown",
   "metadata": {
    "slideshow": {
     "slide_type": "slide"
    }
   },
   "source": [
    "## 9.2.3. Kernel Density Estimation\n",
    "Kernel density estimation (KDE) is a different approach to density estimation that address some of the issues of histogram density estimation.\n",
    "\n",
    "* In histogram density estimation, the density is proportional to:\n",
    "\n",
    "$$ P_\\theta(x) \\propto \\text{\\# of points in the bin where $x$ falls} $$\n",
    "\n",
    "* In kernel density estimation, the density is proportional to:\n",
    "\n",
    "$$ P_\\theta(x) \\propto \\text{\\# of points in $\\mathcal{D}$ \"near\" $x$} $$\n",
    "\n",
    "Here, $\\propto$ means \"proportional to\" (up to a normalizing constant)."
   ]
  },
  {
   "cell_type": "markdown",
   "metadata": {
    "slideshow": {
     "slide_type": "subslide"
    }
   },
   "source": [
    "In other words:\n",
    "\n",
    "* If $x$ is in an area with many points in $\\mathcal{D}$, then $P_\\theta(x)$ is large\n",
    "\n",
    "* If $x$ is in an area with few points in $\\mathcal{D}$, then $P_\\theta(x)$ is small\n",
    "\n",
    "You can also view KDE as counting the % of points that fall in a \"bin\" centered at $x$."
   ]
  },
  {
   "cell_type": "markdown",
   "metadata": {
    "slideshow": {
     "slide_type": "slide"
    }
   },
   "source": [
    "### 9.2.3.1 Tophat Kernel Density Estimation\n",
    "\n",
    "The simplest form of this strategy (Tophat KDE) assumes a model of the form\n",
    "$$P_\\delta(x) = \\frac{N(x; \\delta)}{n},$$\n",
    "where\n",
    "$$ N(x; \\delta) = |\\{x^{(i)} : ||x^{(i)} - x || \\leq \\delta/2\\}|, $$\n",
    "is the number of points that are within a bin of with $\\delta$ centered at $x$."
   ]
  },
  {
   "cell_type": "markdown",
   "metadata": {
    "slideshow": {
     "slide_type": "subslide"
    }
   },
   "source": [
    "This is best understood via a picture. Below we fit Tophat KDE on the 1D mixture of two Gaussians dataset from 9.2.2.1. and visualize it."
   ]
  },
  {
   "cell_type": "code",
   "execution_count": 47,
   "metadata": {
    "slideshow": {
     "slide_type": "fragment"
    }
   },
   "outputs": [
    {
     "data": {
      "text/plain": [
       "(-0.02, 0.32)"
      ]
     },
     "execution_count": 47,
     "metadata": {},
     "output_type": "execute_result"
    },
    {
     "data": {
      "image/png": "[encoded data removed]",
      "text/plain": [
       "<Figure size 432x288 with 1 Axes>"
      ]
     },
     "metadata": {
      "needs_background": "light"
     },
     "output_type": "display_data"
    }
   ],
   "source": [
    "from sklearn.neighbors import KernelDensity\n",
    "\n",
    "kde = KernelDensity(kernel='tophat', bandwidth=0.75).fit(X) # fit a KDE model\n",
    "x_ticks = np.linspace(-5, 10, 1000)[:, np.newaxis] # choose 1000 points on x-axis\n",
    "log_density = kde.score_samples(x_ticks) # compute density at 1000 points\n",
    "\n",
    "plt.fill(x_ticks[:, 0], np.exp(log_density)) # plot the density estimate\n",
    "plt.plot(X[:, 0], np.full(X.shape[0], -0.01), '.k', markersize=10) # plot the points in X as black dots\n",
    "plt.xlim(-4, 9)\n",
    "plt.ylim(-0.02, 0.32)"
   ]
  },
  {
   "cell_type": "markdown",
   "metadata": {
    "slideshow": {
     "slide_type": "subslide"
    }
   },
   "source": [
    "The above algorithm no longer depends on the position of bins like histogram density estimation.\n",
    "\n",
    "However, it still has the problem of producing a density estimate that is not smooth."
   ]
  },
  {
   "cell_type": "markdown",
   "metadata": {
    "slideshow": {
     "slide_type": "fragment"
    }
   },
   "source": [
    "We are going to resolve this by replacing histogram counts with weighted averages:\n",
    "\\begin{align*}\n",
    "P_\\theta(x) \n",
    "& \\propto \\text{\\# of points in $\\mathcal{D}$ \"near\" $x$, weighted by distance from $x$} \\\\\n",
    "& = \\sum_{i=1}^n \\text{weight}(x^{(i)}, x).\n",
    "\\end{align*}"
   ]
  },
  {
   "cell_type": "markdown",
   "metadata": {
    "slideshow": {
     "slide_type": "fragment"
    }
   },
   "source": [
    "We count all points $x^{(i)}$, but each gets a $\\text{weight}(x^{(i)}, x)$ that is large if $x^{(i)}$ and $x$ are \"similar\". We will talk about this \"similarity\" in the following section."
   ]
  },
  {
   "cell_type": "markdown",
   "metadata": {
    "slideshow": {
     "slide_type": "slide"
    }
   },
   "source": [
    "### 9.2.3.2. Kernels and Kernel Density Estimation\n",
    "\n",
    "A *kernel function* $K : \\mathcal{X} \\times \\mathcal{X} \\to [0, \\infty]$ maps pairs of vectors $x, z \\in \\mathcal{X}$ to a real-valued score $K(x,z)$.\n",
    "\n",
    "* A kernel represents the similarity between $x$ and $z$.\n",
    "\n",
    "* We will see many ways of defining \"similarity\"; they will all fit the framework that follows."
   ]
  },
  {
   "cell_type": "markdown",
   "metadata": {
    "slideshow": {
     "slide_type": "slide"
    }
   },
   "source": [
    "A kernelized density model $P$ takes the form:\n",
    "$$P(x) \\propto \\sum_{i=1}^n K(x, x^{(i)}).$$\n",
    "This can be interpreted in several ways:\n",
    "\n",
    "* We count the number of points \"near\" $x$, but each $x^{(i)}$ has a weight $K(x, x^{(i)})$ that depends on similarity between $x, x^{(i)}$.\n",
    "\n",
    "* We place a \"micro-density\" $K(x, x^{(i)})$ at each $x^{(i)}$; the final density $P(x)$ is their sum."
   ]
  },
  {
   "cell_type": "markdown",
   "metadata": {
    "slideshow": {
     "slide_type": "slide"
    }
   },
   "source": [
    "### 9.2.3.3. Types of Kernels\n",
    "\n",
    "Here, we introduce a few kernels that are popular for density estimation."
   ]
  },
  {
   "cell_type": "markdown",
   "metadata": {
    "slideshow": {
     "slide_type": "subslide"
    }
   },
   "source": [
    "The following kernels are available in `scikit-learn`.\n",
    "\n",
    "* Gaussian kernel $K(x,z; \\delta) \\propto \\exp(-||x-z||^2/2\\delta^2)$\n",
    "\n",
    "* Tophat kernel $K(x,z; \\delta) = 1 \\text{ if } ||x-z|| \\leq \\delta/2$ else $0$.\n",
    "\n",
    "* Epanechnikov kernel $K(x,z; \\delta) \\propto 1 - ||x-z||^2/\\delta^2$\n",
    "\n",
    "* Exponential kernel $K(x,z; \\delta) \\propto \\exp(-||x-z||/\\delta)$\n",
    "\n",
    "* Linear kernel $K(x,z; \\delta) \\propto (1 - ||x-z||/\\delta)^+$"
   ]
  },
  {
   "cell_type": "markdown",
   "metadata": {
    "slideshow": {
     "slide_type": "subslide"
    }
   },
   "source": [
    "It's easier to understand these kernels by looking at the corresponding visual figures plotted below:"
   ]
  },
  {
   "cell_type": "code",
   "execution_count": 81,
   "metadata": {
    "slideshow": {
     "slide_type": "fragment"
    }
   },
   "outputs": [
    {
     "data": {
      "text/plain": [
       "Text(0.5, 1.0, 'Available Kernels')"
      ]
     },
     "execution_count": 81,
     "metadata": {},
     "output_type": "execute_result"
    },
    {
     "data": {
      "image/png": "[encoded data removed]",
      "text/plain": [
       "<Figure size 864x288 with 6 Axes>"
      ]
     },
     "metadata": {
      "needs_background": "light"
     },
     "output_type": "display_data"
    }
   ],
   "source": [
    "# https://scikit-learn.org/stable/auto_examples/neighbors/plot_kde_1d.html\n",
    "X_plot = np.linspace(-6, 6, 1000)[:, None]\n",
    "X_src = np.zeros((1, 1))\n",
    "\n",
    "fig, ax = plt.subplots(2, 3, sharex=True, sharey=True, figsize=(12,4))\n",
    "fig.subplots_adjust(left=0.05, right=0.95, hspace=0.05, wspace=0.05)\n",
    "\n",
    "def format_func(x, loc):\n",
    "    if x == 0:\n",
    "        return '0'\n",
    "    elif x == 1:\n",
    "        return '$\\delta/2$'\n",
    "    elif x == -1:\n",
    "        return '-$\\delta/2$'\n",
    "    else:\n",
    "        return '%i$\\delta$' % (int(x/2))\n",
    "\n",
    "for i, kernel in enumerate(['gaussian', 'tophat', 'epanechnikov',\n",
    "                            'exponential', 'linear', 'cosine']):\n",
    "    axi = ax.ravel()[i]\n",
    "    log_dens = KernelDensity(kernel=kernel).fit(X_src).score_samples(X_plot)\n",
    "    axi.fill(X_plot[:, 0], np.exp(log_dens), '-k', fc='#AAAAFF')\n",
    "    axi.text(-2.6, 0.95, kernel)\n",
    "\n",
    "    axi.xaxis.set_major_formatter(plt.FuncFormatter(format_func))\n",
    "    axi.xaxis.set_major_locator(plt.MultipleLocator(1))\n",
    "    axi.yaxis.set_major_locator(plt.NullLocator())\n",
    "\n",
    "    axi.set_ylim(0, 1.05)\n",
    "    axi.set_xlim(-2.9, 2.9)\n",
    "\n",
    "ax[0, 1].set_title('Available Kernels')\n"
   ]
  },
  {
   "cell_type": "markdown",
   "metadata": {
    "slideshow": {
     "slide_type": "slide"
    }
   },
   "source": [
    "### 9.2.3.4. Kernel Density Estimation: Example\n",
    "\n",
    "Let's look at an example in the context of the 1D points (mixture of two Gaussians) we have seen earlier.\n",
    "\n",
    "We will fit a model of the form\n",
    "$$P(x) = \\sum_{i=1}^n K(x, x^{(i)})$$\n",
    "with a Gaussian kernel $K(x,z; \\delta) \\propto \\exp(-||x-z||^2/2\\delta^2)$.\n",
    "\n",
    "Below we plot the density estimate as blue line, the datapoints as black dots, and example kernels as red dotted line."
   ]
  },
  {
   "cell_type": "code",
   "execution_count": 77,
   "metadata": {
    "slideshow": {
     "slide_type": "subslide"
    }
   },
   "outputs": [
    {
     "data": {
      "text/plain": [
       "(-0.02, 0.32)"
      ]
     },
     "execution_count": 77,
     "metadata": {},
     "output_type": "execute_result"
    },
    {
     "data": {
      "image/png": "[encoded data removed]",
      "text/plain": [
       "<Figure size 864x288 with 1 Axes>"
      ]
     },
     "metadata": {
      "needs_background": "light"
     },
     "output_type": "display_data"
    }
   ],
   "source": [
    "from sklearn.neighbors import KernelDensity\n",
    "\n",
    "kde = KernelDensity(kernel='gaussian', bandwidth=0.75).fit(X) # fit a KDE model\n",
    "x_ticks = np.linspace(-5, 10, 1000)[:, np.newaxis] # choose 1000 points on x-axis\n",
    "log_density = kde.score_samples(x_ticks) # compute density at 1000 points\n",
    "gaussian_kernel = lambda z : lambda x: np.exp(-np.abs(x-z)**2/(0.75**2)) # gaussian kernel\n",
    "kernel_linspace = lambda x : np.linspace(x-1.2,x+1.2,30)\n",
    "\n",
    "plt.figure(figsize=(12,4))\n",
    "plt.plot(x_ticks[:, 0], np.exp(log_density)) # plot the density estimate\n",
    "plt.plot(X[:, 0], np.full(X.shape[0], -0.01), '.k', markersize=10) # plot the points in X as black dots\n",
    "plt.plot(kernel_linspace(4), 0.07*gaussian_kernel(4)(kernel_linspace(4)), '--', color='r', alpha=0.75)\n",
    "plt.plot(kernel_linspace(5), 0.07*gaussian_kernel(5)(kernel_linspace(5)), '--', color='r', alpha=0.75)\n",
    "plt.plot(kernel_linspace(1), 0.07*gaussian_kernel(1)(kernel_linspace(1)), '--', color='r', alpha=0.75)\n",
    "plt.xlim(-4, 9)\n",
    "plt.ylim(-0.02, 0.32)"
   ]
  },
  {
   "cell_type": "markdown",
   "metadata": {},
   "source": [
    "Recall that the dataset is a mixture of two Gaussians centered at $x = 0$ and $x = 5$. This estimate does look consistent with that."
   ]
  },
  {
   "cell_type": "markdown",
   "metadata": {
    "slideshow": {
     "slide_type": "slide"
    }
   },
   "source": [
    "### 9.2.3.5. KDE in Higher Dimensions\n",
    "\n",
    "In principle, kernel density estimation also works in higher dimensions.\n",
    "\n",
    "However, the number of datapoints needed for a good fit incrases exponentially with the dimension, which limits the applications of this model in high dimensions."
   ]
  },
  {
   "cell_type": "markdown",
   "metadata": {
    "slideshow": {
     "slide_type": "slide"
    }
   },
   "source": [
    "### 9.2.3.6. Choosing Hyperparameters for Kernels\n",
    "\n",
    "Each kernel has a notion of \"bandwidth\" $\\delta$. This is a hyperparameter that controls the \"smoothness\" of the fit.\n",
    "\n",
    "* We can choose it using inspection or heuristics like we did for $K$ in $K$-Means.\n",
    "\n",
    "* Because we have a probabilistic model, we can also estimate likelihood on a holdout dataset (more on this later!)"
   ]
  },
  {
   "cell_type": "markdown",
   "metadata": {
    "slideshow": {
     "slide_type": "subslide"
    }
   },
   "source": [
    "Let's illustrate how the bandwidth affects smoothness via an example.\n",
    "\n",
    "Below we plot two figures, left with very high bandwidth and right with very low bandwidth. "
   ]
  },
  {
   "cell_type": "code",
   "execution_count": 91,
   "metadata": {
    "slideshow": {
     "slide_type": "fragment"
    }
   },
   "outputs": [
    {
     "data": {
      "image/png": "[encoded data removed]",
      "text/plain": [
       "<Figure size 864x288 with 2 Axes>"
      ]
     },
     "metadata": {
      "needs_background": "light"
     },
     "output_type": "display_data"
    }
   ],
   "source": [
    "from sklearn.neighbors import KernelDensity\n",
    "\n",
    "kde1 = KernelDensity(kernel='gaussian', bandwidth=3).fit(X) # fit a KDE model\n",
    "kde2 = KernelDensity(kernel='gaussian', bandwidth=0.2).fit(X) # fit a KDE model\n",
    "\n",
    "fig, ax = plt.subplots(1, 2, sharex=True, sharey=True, figsize=(12,4))\n",
    "ax[0].fill(x_ticks[:, 0], np.exp(kde1.score_samples(x_ticks))) # plot the density estimate\n",
    "ax[1].fill(x_ticks[:, 0], np.exp(kde2.score_samples(x_ticks))) # plot the density estimate\n",
    "ax[0].set_title('Bandwidth Too High')\n",
    "ax[1].set_title('Bandwidth Too Low')\n",
    "\n",
    "for axi in ax.ravel():\n",
    "    axi.plot(X[:, 0], np.full(X.shape[0], -0.01), '.k', markersize=10) # plot the points in X\n",
    "    axi.set_xlim(-4, 9)\n",
    "    axi.set_ylim(-0.02, 0.4)"
   ]
  },
  {
   "cell_type": "markdown",
   "metadata": {},
   "source": [
    "You can see that the left figure is too smoothed out, making us lose a lot of information. On the other hand, the right figure is very sharp, making it less generalizable."
   ]
  },
  {
   "cell_type": "markdown",
   "metadata": {
    "slideshow": {
     "slide_type": "slide"
    }
   },
   "source": [
    "### 9.2.3.7. Algorithm: Kernel Density Estimation\n",
    "\n",
    "We summarize the kernel density estimation algorithm below:\n",
    "\n",
    "* __Type__: Unsupervised learning (density estimation).\n",
    "\n",
    "* __Model family__: Non-parametric. Sum of $n$ kernels.\n",
    "\n",
    "* __Objective function__: Log-likelihood to choose optimal bandwidth.\n",
    "\n",
    "* __Optimizer__: Grid search."
   ]
  },
  {
   "cell_type": "markdown",
   "metadata": {
    "slideshow": {
     "slide_type": "slide"
    }
   },
   "source": [
    "### 9.2.3.8. Pros and Cons of KDE\n",
    "\n",
    "We have introduced kernel density estimation which overcomes some of the drawbacks of histogram density estimation introduced earlier. We summarize the pros and cons of KDE below:\n",
    "\n",
    "Pros:\n",
    "\n",
    "* Can approximate any data distribution arbitrarily well.\n",
    "\n",
    "Cons:\n",
    "\n",
    "* Need to store entire dataset to make queries, which is computationally prohibitive.\n",
    "\n",
    "* Number of data needed scale exponentially with dimension (\"curse of dimensionality\")."
   ]
  },
  {
   "cell_type": "markdown",
   "metadata": {
    "slideshow": {
     "slide_type": "slide"
    }
   },
   "source": [
    "# 9.3. Nearest Neighbors\n",
    "\n",
    "We are now going to take a little detour back to supervised learning and apply some of these density estimation ideas to supervised learning.\n",
    "\n",
    "Precisely, we will look at an algorithm called Nearest Neighbors."
   ]
  },
  {
   "cell_type": "markdown",
   "metadata": {
    "slideshow": {
     "slide_type": "slide"
    }
   },
   "source": [
    "## 9.3.1. Review: Classification\n",
    "\n",
    "Consider a supervised training dataset $\\mathcal{D} = \\{(x^{(1)}, y^{(1)}), (x^{(2)}, y^{(2)}), \\ldots, (x^{(n)}, y^{(n)})\\}$.\n",
    "\n",
    "We distinguish between two types of supervised learning problems depending on the targets $y^{(i)}$. \n",
    "\n",
    "1. __Regression__: The target variable $y \\in \\mathcal{Y}$ is continuous:  $\\mathcal{Y} \\subseteq \\mathbb{R}$.\n",
    "\n",
    "2. __Classification__: The target variable $y$ is discrete and takes on one of $K$ possible values:  $\\mathcal{Y} = \\{y_1, y_2, \\ldots y_K\\}$. Each discrete value corresponds to a *class* that we want to predict."
   ]
  },
  {
   "cell_type": "markdown",
   "metadata": {
    "slideshow": {
     "slide_type": "slide"
    }
   },
   "source": [
    "## 9.3.2. A Simple Classification Algorithm: Nearest Neighbors\n",
    "\n",
    "Suppose we are given a training dataset $\\mathcal{D} = \\{(x^{(1)}, y^{(1)}), (x^{(2)}, y^{(2)}), \\ldots, (x^{(n)}, y^{(n)})\\}$. At inference time, we receive a query point $x'$ and we want to predict its label $y'$."
   ]
  },
  {
   "cell_type": "markdown",
   "metadata": {
    "slideshow": {
     "slide_type": "subslide"
    }
   },
   "source": [
    "A really simple but surprisingly effective way of returning $y'$ is the *nearest neighbors* approach.\n",
    "\n",
    "* Given a query datapoint $x'$, find the training example $(x, y)$ in $\\mathcal{D}$ that's closest to $x'$, in the sense that $x$ is \"nearest\" to $x'$\n",
    "\n",
    "* Return $y$, the label of the \"nearest neighbor\" $x$."
   ]
  },
  {
   "cell_type": "markdown",
   "metadata": {
    "slideshow": {
     "slide_type": "subslide"
    }
   },
   "source": [
    "In the example below on the Iris dataset, the red cross denotes the query $x'$. The closest class to it is \"Virginica\". (We're only using the first two features in the dataset for simplicity.)"
   ]
  },
  {
   "cell_type": "code",
   "execution_count": 6,
   "metadata": {
    "slideshow": {
     "slide_type": "fragment"
    }
   },
   "outputs": [
    {
     "data": {
      "text/plain": [
       "<matplotlib.legend.Legend at 0x12982b4e0>"
      ]
     },
     "execution_count": 6,
     "metadata": {},
     "output_type": "execute_result"
    },
    {
     "data": {
      "image/png": "[encoded data removed]",
      "text/plain": [
       "<Figure size 864x288 with 1 Axes>"
      ]
     },
     "metadata": {
      "needs_background": "light"
     },
     "output_type": "display_data"
    }
   ],
   "source": [
    "import matplotlib.pyplot as plt\n",
    "plt.rcParams['figure.figsize'] = [12, 4]\n",
    "\n",
    "# Plot also the training points\n",
    "p1 = plt.scatter(iris_X.iloc[:, 0], iris_X.iloc[:, 1], c=iris_y,\n",
    "            edgecolor='k', s=50, cmap=plt.cm.Paired)\n",
    "p2 = plt.plot([7.5], [4], 'rx', ms=10, mew=5)\n",
    "plt.xlabel('Sepal Length')\n",
    "plt.ylabel('Sepal Width')\n",
    "plt.legend(['Query Point', 'Training Data'], loc='lower right')\n",
    "plt.legend(handles=p1.legend_elements()[0]+p2, labels=['Setosa', 'Versicolour', 'Virginica', 'Query'], loc='lower right')"
   ]
  },
  {
   "cell_type": "markdown",
   "metadata": {
    "slideshow": {
     "slide_type": "slide"
    }
   },
   "source": [
    "## 9.3.3. Choosing a Distance Function\n",
    "\n",
    "How do we select the point $x$ that is the closest to the query point $x'$? There are many options:"
   ]
  },
  {
   "cell_type": "markdown",
   "metadata": {
    "slideshow": {
     "slide_type": "fragment"
    }
   },
   "source": [
    "* The Euclidean distance $|| x - x' ||_2 = \\sqrt{\\sum_{j=1}^d |x_j - x'_j|^2)}$ is a popular choice."
   ]
  },
  {
   "cell_type": "markdown",
   "metadata": {
    "slideshow": {
     "slide_type": "fragment"
    }
   },
   "source": [
    "* The Minkowski distance $|| x - x' ||_p = (\\sum_{j=1}^d |x_j - x'_j|^p)^{1/p}$ generalizes the Euclidean, L1 and other distances."
   ]
  },
  {
   "cell_type": "markdown",
   "metadata": {
    "slideshow": {
     "slide_type": "skip"
    }
   },
   "source": [
    "* The Mahalanobis distance $\\sqrt{x^\\top V x}$ for a positive semidefinite matrix $V \\in \\mathbb{R}^{d \\times d}$ also generalizes the Euclidean distnace."
   ]
  },
  {
   "cell_type": "markdown",
   "metadata": {
    "slideshow": {
     "slide_type": "fragment"
    }
   },
   "source": [
    "* Discrete-valued inputs can be examined via the Hamming distance $|\\{j : x_j \\neq x_j'\\}|$ and other distances."
   ]
  },
  {
   "cell_type": "markdown",
   "metadata": {
    "slideshow": {
     "slide_type": "subslide"
    }
   },
   "source": [
    "Let's apply Nearest Neighbors to the above dataset using the Euclidean distance (or equiavalently, Minkowski with $p=2$)\n",
    "\n",
    "Below we color each position in the grid with the corresponding class color (according to Nearest Neighbors with Euclidean distance)"
   ]
  },
  {
   "cell_type": "code",
   "execution_count": 23,
   "metadata": {
    "slideshow": {
     "slide_type": "fragment"
    }
   },
   "outputs": [
    {
     "data": {
      "text/plain": [
       "Text(0, 0.5, 'Sepal Width')"
      ]
     },
     "execution_count": 23,
     "metadata": {},
     "output_type": "execute_result"
    },
    {
     "data": {
      "image/png": "[encoded data removed]",
      "text/plain": [
       "<Figure size 864x288 with 1 Axes>"
      ]
     },
     "metadata": {
      "needs_background": "light"
     },
     "output_type": "display_data"
    }
   ],
   "source": [
    "# https://scikit-learn.org/stable/auto_examples/neighbors/plot_classification.html\n",
    "from sklearn import neighbors\n",
    "from matplotlib.colors import ListedColormap\n",
    "\n",
    "# Train a Nearest Neighbors Model\n",
    "clf = neighbors.KNeighborsClassifier(n_neighbors=1, metric='minkowski', p=2)\n",
    "clf.fit(iris_X.iloc[:,:2], iris_y)\n",
    "\n",
    "# Create color maps\n",
    "cmap_light = ListedColormap(['orange', 'cyan', 'cornflowerblue'])\n",
    "cmap_bold = ListedColormap(['darkorange', 'c', 'darkblue'])\n",
    "\n",
    "# Plot the decision boundary. For that, we will assign a color to each\n",
    "# point in the mesh [x_min, x_max]x[y_min, y_max].\n",
    "x_min, x_max = iris_X.iloc[:, 0].min() - 1, iris_X.iloc[:, 0].max() + 1\n",
    "y_min, y_max = iris_X.iloc[:, 1].min() - 1, iris_X.iloc[:, 1].max() + 1\n",
    "xx, yy = np.meshgrid(np.arange(x_min, x_max, 0.02),\n",
    "                     np.arange(y_min, y_max, 0.02))\n",
    "Z = clf.predict(np.c_[xx.ravel(), yy.ravel()])\n",
    "\n",
    "# Put the result into a color plot\n",
    "Z = Z.reshape(xx.shape)\n",
    "plt.figure()\n",
    "plt.pcolormesh(xx, yy, Z, cmap=cmap_light)\n",
    "\n",
    "# Plot also the training points\n",
    "plt.scatter(iris_X.iloc[:, 0], iris_X.iloc[:, 1], c=iris_y, cmap=cmap_bold,\n",
    "            edgecolor='k', s=60)\n",
    "plt.xlim(xx.min(), xx.max())\n",
    "plt.ylim(yy.min(), yy.max())\n",
    "\n",
    "plt.xlabel('Sepal Length')\n",
    "plt.ylabel('Sepal Width')"
   ]
  },
  {
   "cell_type": "markdown",
   "metadata": {
    "slideshow": {
     "slide_type": "subslide"
    }
   },
   "source": [
    "In the above example, the regions of the 2D space that are assigned to each class are highly irregular. In areas where the two classes overlap, the decision of the boundary flips between the classes, depending on which point is closest to it."
   ]
  },
  {
   "cell_type": "markdown",
   "metadata": {
    "slideshow": {
     "slide_type": "slide"
    }
   },
   "source": [
    "## 9.3.4. K-Nearest Neighbors\n",
    "\n",
    "Intuitively, we expect the true decision boundary to be smooth. Therefore, we average $K$ nearest neighbors at a query point."
   ]
  },
  {
   "cell_type": "markdown",
   "metadata": {
    "slideshow": {
     "slide_type": "fragment"
    }
   },
   "source": [
    "* Given a query datapoint $x'$, find the $K$ training examples $\\mathcal{N} = \\{(x^{(1)}, y^{(1)}), (x^{(2)}, y^{(2)}), \\ldots, (x^{(K)}, y^{(K)})\\} \\subseteq D$ that are closest to $x'$.\n",
    "\n",
    "* Return $y_\\mathcal{N}$, the consensus label of the neighborhood $\\mathcal{N}$.\n",
    "\n",
    "The consesus $y_\\mathcal{N}$ can be determined by voting, weighted average, kernels, etc."
   ]
  },
  {
   "cell_type": "markdown",
   "metadata": {
    "slideshow": {
     "slide_type": "subslide"
    }
   },
   "source": [
    "Let's look at Nearest Neighbors with a neighborhood of 30. Once again, we color each position in the grid with the corresponding class color. The decision boundary is much smoother than before."
   ]
  },
  {
   "cell_type": "code",
   "execution_count": 8,
   "metadata": {
    "slideshow": {
     "slide_type": "fragment"
    }
   },
   "outputs": [
    {
     "data": {
      "text/plain": [
       "Text(0, 0.5, 'Sepal Width')"
      ]
     },
     "execution_count": 8,
     "metadata": {},
     "output_type": "execute_result"
    },
    {
     "data": {
      "image/png": "[encoded data removed]",
      "text/plain": [
       "<Figure size 864x288 with 1 Axes>"
      ]
     },
     "metadata": {
      "needs_background": "light"
     },
     "output_type": "display_data"
    }
   ],
   "source": [
    "# https://scikit-learn.org/stable/auto_examples/neighbors/plot_classification.html\n",
    "# Train a Nearest Neighbors Model\n",
    "clf = neighbors.KNeighborsClassifier(n_neighbors=30, metric='minkowski', p=2)\n",
    "clf.fit(iris_X.iloc[:,:2], iris_y)\n",
    "Z = clf.predict(np.c_[xx.ravel(), yy.ravel()])\n",
    "\n",
    "# Put the result into a color plot\n",
    "Z = Z.reshape(xx.shape)\n",
    "plt.figure()\n",
    "plt.pcolormesh(xx, yy, Z, cmap=cmap_light)\n",
    "\n",
    "# Plot also the training points\n",
    "plt.scatter(iris_X.iloc[:, 0], iris_X.iloc[:, 1], c=iris_y, cmap=cmap_bold,\n",
    "            edgecolor='k', s=60)\n",
    "plt.xlim(xx.min(), xx.max())\n",
    "plt.ylim(yy.min(), yy.max())\n",
    "\n",
    "plt.xlabel('Sepal Length')\n",
    "plt.ylabel('Sepal Width')"
   ]
  },
  {
   "cell_type": "markdown",
   "metadata": {
    "slideshow": {
     "slide_type": "slide"
    }
   },
   "source": [
    "### 9.3.4.1. KNN Estimates Data Distribution\n",
    "\n",
    "Suppose that the output $y'$ of KNN is the average target in the neighborhood $\\mathcal{N}(x')$ around the query $x'$.\n",
    "Observe that we can write:\n",
    "$$y' = \\frac{1}{K} \\sum_{(x, y) \\in \\mathcal{N}(x')} y \\approx \\mathbb{E}[y \\mid x'].$$"
   ]
  },
  {
   "cell_type": "markdown",
   "metadata": {
    "slideshow": {
     "slide_type": "fragment"
    }
   },
   "source": [
    "* When $x \\approx x'$ and when $\\mathbb{P}$ is reasonably smooth, each $y$ for $(x,y) \\in \\mathcal{N}(x')$ is approximately a sample from $\\mathbb{P}(y\\mid x')$ (since $\\mathbb{P}$ doesn't change much around $x'$, $\\mathbb{P}(y\\mid x') \\approx \\mathbb{P}(y\\mid x)$)."
   ]
  },
  {
   "cell_type": "markdown",
   "metadata": {
    "slideshow": {
     "slide_type": "fragment"
    }
   },
   "source": [
    "* Thus $y'$ is essentially a Monte Carlo estimate of $\\mathbb{E}[y \\mid x']$ (the average of $K$ samples from $\\mathbb{P}(y\\mid x')$)."
   ]
  },
  {
   "cell_type": "markdown",
   "metadata": {
    "slideshow": {
     "slide_type": "slide"
    }
   },
   "source": [
    "### 9.3.4.2. Algorithm: K-Nearest Neighbors\n",
    "\n",
    "We summarize the K-Nearest Neighbors algorithm below:\n",
    "\n",
    "* __Type__: Supervised learning (regression and classification)\n",
    "\n",
    "* __Model family__: Consensus over $K$ training instances.\n",
    "\n",
    "* __Objective function__: Euclidean, Minkowski, Hamming, etc.\n",
    "\n",
    "* __Optimizer__: Non at training. Nearest neighbor search at inference using specialized search algorithms (Hashing, KD-trees).\n",
    "\n",
    "* __Probabilistic interpretation__: Directly approximating the density $P_\\text{data}(y|x)$."
   ]
  },
  {
   "cell_type": "markdown",
   "metadata": {
    "slideshow": {
     "slide_type": "slide"
    }
   },
   "source": [
    "### 9.3.4.3 Non-Parametric Models\n",
    "\n",
    "Nearest neighbors is an example of a *non-parametric* model. Parametric vs. non-parametric are is a key distinguishing characteristic for machine learning models."
   ]
  },
  {
   "cell_type": "markdown",
   "metadata": {
    "slideshow": {
     "slide_type": "subslide"
    }
   },
   "source": [
    "A parametric model $f_\\theta(x) : \\mathcal{X} \\times \\Theta \\to \\mathcal{Y}$ is defined by a finite set of parameters $\\theta \\in \\Theta$ whose dimensionality is constant with respect to the dataset. Linear models of the form\n",
    "$$ f_\\theta(x) = \\theta^\\top x $$\n",
    "are an example of a parametric model."
   ]
  },
  {
   "cell_type": "markdown",
   "metadata": {
    "slideshow": {
     "slide_type": "subslide"
    }
   },
   "source": [
    "On the other hand, for a non-parametric model, the function $f$ uses the entire training dataset (or a post-proccessed version of it) to make predictions, as in $K$-Nearest Neighbors. In other words, the complexity of the model increases with dataset size. Because of this, non-parametric models have the advantage of not losing any information at training time. Nevertheless, they are also computationally less tractable and may easily overfit the training set."
   ]
  },
  {
   "cell_type": "markdown",
   "metadata": {
    "slideshow": {
     "slide_type": "slide"
    }
   },
   "source": [
    "### 9.3.4.4. Pros and Cons of KNN\n",
    "\n",
    "We have introduced KNN, our first non-parametric model for supervised learning. We summarize the pros and cons of the algorithm below:\n",
    "\n",
    "Pros:\n",
    "\n",
    "* Can approximate any data distribution arbtrarily well.\n",
    "\n",
    "Cons:\n",
    "\n",
    "* Need to store entire dataset to make queries, which is computationally prohibitive.\n",
    "\n",
    "* Number of data needed scale exponentially with dimension (\"curse of dimensionality\")."
   ]
  }
 ],
 "metadata": {
  "accelerator": "GPU",
  "celltoolbar": "Slideshow",
  "colab": {
   "collapsed_sections": [],
   "name": "neural-ode.ipynb",
   "provenance": []
  },
  "kernelspec": {
   "display_name": "Python 3.9.6 64-bit",
   "language": "python",
   "name": "python3"
  },
  "language_info": {
   "codemirror_mode": {
    "name": "ipython",
    "version": 3
   },
   "file_extension": ".py",
   "mimetype": "text/x-python",
   "name": "python",
   "nbconvert_exporter": "python",
   "pygments_lexer": "ipython3",
   "version": "3.9.6"
  },
  "rise": {
   "controlsTutorial": false,
   "height": 900,
   "help": false,
   "margin": 0,
   "maxScale": 2,
   "minScale": 0.2,
   "progress": true,
   "scroll": true,
   "theme": "simple",
   "width": 1200
  },
  "title": "Lecture 9: Density Estimation",
  "vscode": {
   "interpreter": {
    "hash": "31f2aee4e71d21fbe5cf8b01ff0e069b9275f58929596ceb00d14d90e3e16cd6"
   }
  }
 },
 "nbformat": 4,
 "nbformat_minor": 1
}
